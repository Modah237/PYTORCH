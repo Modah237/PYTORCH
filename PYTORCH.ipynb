{
  "nbformat": 4,
  "nbformat_minor": 0,
  "metadata": {
    "colab": {
      "provenance": []
    },
    "kernelspec": {
      "name": "python3",
      "display_name": "Python 3"
    },
    "language_info": {
      "name": "python"
    }
  },
  "cells": [
    {
      "cell_type": "code",
      "execution_count": null,
      "metadata": {
        "colab": {
          "base_uri": "https://localhost:8080/"
        },
        "id": "ibD24WZQd3t3",
        "outputId": "fc5fbd7b-149e-42c4-d647-339f73e1d026"
      },
      "outputs": [
        {
          "output_type": "stream",
          "name": "stdout",
          "text": [
            "Looking in indexes: https://pypi.org/simple, https://us-python.pkg.dev/colab-wheels/public/simple/\n",
            "Requirement already satisfied: torch in /usr/local/lib/python3.8/dist-packages (1.13.0+cu116)\n",
            "Collecting vision\n",
            "  Downloading vision-1.0.0.tar.gz (1.6 kB)\n",
            "  Preparing metadata (setup.py) ... \u001b[?25l\u001b[?25hdone\n",
            "Requirement already satisfied: typing-extensions in /usr/local/lib/python3.8/dist-packages (from torch) (4.4.0)\n",
            "Building wheels for collected packages: vision\n",
            "  Building wheel for vision (setup.py) ... \u001b[?25l\u001b[?25hdone\n",
            "  Created wheel for vision: filename=vision-1.0.0-py3-none-any.whl size=2168 sha256=e3e47b3f5e183676921f0331e60b1b1a38428caf7a6c8d0807c788c7655fb0b7\n",
            "  Stored in directory: /root/.cache/pip/wheels/d9/c2/60/1cb514cc46678e7f0544033de5bebd7d017778af86b8989b68\n",
            "Successfully built vision\n",
            "Installing collected packages: vision\n",
            "Successfully installed vision-1.0.0\n"
          ]
        }
      ],
      "source": [
        "pip install torch vision"
      ]
    },
    {
      "cell_type": "code",
      "source": [
        "import torch"
      ],
      "metadata": {
        "id": "kG-gTFt2e1aa"
      },
      "execution_count": null,
      "outputs": []
    },
    {
      "cell_type": "markdown",
      "source": [
        "Tensor # torch.empty(size): uninitiallized (Scalar)"
      ],
      "metadata": {
        "id": "gTPv1q8pddG8"
      }
    },
    {
      "cell_type": "code",
      "source": [
        "x = torch.empty(1) \n",
        "print(x)"
      ],
      "metadata": {
        "colab": {
          "base_uri": "https://localhost:8080/"
        },
        "id": "qYSM5YD2cry-",
        "outputId": "53839345-8b85-4ec6-89cb-6f1cac38882d"
      },
      "execution_count": null,
      "outputs": [
        {
          "output_type": "stream",
          "name": "stdout",
          "text": [
            "tensor([4.0917e-34])\n"
          ]
        }
      ]
    },
    {
      "cell_type": "markdown",
      "source": [
        "# vector, 1D"
      ],
      "metadata": {
        "id": "GlDKZ43edqnc"
      }
    },
    {
      "cell_type": "code",
      "source": [
        "x = torch.empty(3)\n",
        "print(x)"
      ],
      "metadata": {
        "colab": {
          "base_uri": "https://localhost:8080/"
        },
        "id": "O6dHwg2xduVK",
        "outputId": "cf7ea0d8-6b67-4de6-f567-0748edfb39f1"
      },
      "execution_count": null,
      "outputs": [
        {
          "output_type": "stream",
          "name": "stdout",
          "text": [
            "tensor([4.0919e-34, 0.0000e+00, 5.0447e-44])\n"
          ]
        }
      ]
    },
    {
      "cell_type": "markdown",
      "source": [
        "# matrix, 2D"
      ],
      "metadata": {
        "id": "WvkgkGyEd8g2"
      }
    },
    {
      "cell_type": "code",
      "source": [
        "x = torch.empty(2,3)\n",
        "print(x)"
      ],
      "metadata": {
        "colab": {
          "base_uri": "https://localhost:8080/"
        },
        "id": "bKgdfaC5dFH0",
        "outputId": "e8dc75f1-cd7f-4d30-cda2-5204c40a45b6"
      },
      "execution_count": null,
      "outputs": [
        {
          "output_type": "stream",
          "name": "stdout",
          "text": [
            "tensor([[4.0919e-34, 0.0000e+00, 5.0447e-44],\n",
            "        [0.0000e+00,        nan, 0.0000e+00]])\n"
          ]
        }
      ]
    },
    {
      "cell_type": "code",
      "source": [
        "x = torch.rand(3,2)\n",
        "print(x)"
      ],
      "metadata": {
        "id": "-2G9fmXVfkFf",
        "outputId": "8987816f-fa61-4941-a53d-c092cddc1578",
        "colab": {
          "base_uri": "https://localhost:8080/"
        }
      },
      "execution_count": null,
      "outputs": [
        {
          "output_type": "stream",
          "name": "stdout",
          "text": [
            "tensor([[0.6782, 0.7623],\n",
            "        [0.7971, 0.7164],\n",
            "        [0.2140, 0.7870]])\n"
          ]
        }
      ]
    },
    {
      "cell_type": "markdown",
      "source": [
        "# tensor, 3 dimensions"
      ],
      "metadata": {
        "id": "Mf784iAUeSaw"
      }
    },
    {
      "cell_type": "code",
      "source": [
        "x = torch.empty(2,2,3)\n",
        "print(x)"
      ],
      "metadata": {
        "colab": {
          "base_uri": "https://localhost:8080/"
        },
        "id": "Cdmt-eC0XxdM",
        "outputId": "44092cc9-6993-486a-f886-3e2d12e5cf06"
      },
      "execution_count": null,
      "outputs": [
        {
          "output_type": "stream",
          "name": "stdout",
          "text": [
            "tensor([[[4.0919e-34, 0.0000e+00, 7.9714e-01],\n",
            "         [7.1644e-01, 2.1397e-01, 7.8705e-01]],\n",
            "\n",
            "        [[1.1578e+27, 7.1463e+22, 4.6241e+30],\n",
            "         [1.0552e+24, 5.5757e-02, 1.8728e+31]]])\n"
          ]
        }
      ]
    },
    {
      "cell_type": "markdown",
      "source": [
        "Random numbers"
      ],
      "metadata": {
        "id": "dbemkqCoe1Bp"
      }
    },
    {
      "cell_type": "code",
      "source": [
        "x = torch.rand(5, 3)\n",
        "print(x)"
      ],
      "metadata": {
        "colab": {
          "base_uri": "https://localhost:8080/"
        },
        "id": "nwQDlBOje5QZ",
        "outputId": "f1d5686c-287e-441a-ecf0-e1927ec8d458"
      },
      "execution_count": null,
      "outputs": [
        {
          "output_type": "stream",
          "name": "stdout",
          "text": [
            "tensor([[0.4178, 0.6495, 0.8981],\n",
            "        [0.1158, 0.8432, 0.1095],\n",
            "        [0.7872, 0.0016, 0.2663],\n",
            "        [0.2375, 0.4727, 0.7886],\n",
            "        [0.1562, 0.5640, 0.2170]])\n"
          ]
        }
      ]
    },
    {
      "cell_type": "markdown",
      "source": [
        "# Check size & data type"
      ],
      "metadata": {
        "id": "8hvxb5QIfFjE"
      }
    },
    {
      "cell_type": "code",
      "source": [
        "print(x.size())\n",
        "print(x.dtype)"
      ],
      "metadata": {
        "colab": {
          "base_uri": "https://localhost:8080/"
        },
        "id": "cQynwY_ofLJB",
        "outputId": "a5f71815-d5a5-4a24-b4bd-b8f5bc074c0d"
      },
      "execution_count": null,
      "outputs": [
        {
          "output_type": "stream",
          "name": "stdout",
          "text": [
            "torch.Size([5, 3])\n",
            "torch.float32\n"
          ]
        }
      ]
    },
    {
      "cell_type": "markdown",
      "source": [
        "# requires_grad argument\n",
        "# This will tell pytorch that it will need to calculate the gradients for this tensor\n",
        "# later in your optimization steps\n",
        "# i.e. this is a variable in your model that you want to optimize"
      ],
      "metadata": {
        "id": "JgIpwKzHflpW"
      }
    },
    {
      "cell_type": "code",
      "source": [
        "x = torch.tensor([5.5, 3], requires_grad = True)\n",
        "print(x)"
      ],
      "metadata": {
        "colab": {
          "base_uri": "https://localhost:8080/"
        },
        "id": "okulGVrif_T5",
        "outputId": "2f5cc66c-4eb5-4eb5-894f-35e49083a9c0"
      },
      "execution_count": null,
      "outputs": [
        {
          "output_type": "stream",
          "name": "stdout",
          "text": [
            "tensor([5.5000, 3.0000], requires_grad=True)\n"
          ]
        }
      ]
    },
    {
      "cell_type": "markdown",
      "source": [],
      "metadata": {
        "id": "WNoj9ukYfTWb"
      }
    },
    {
      "cell_type": "markdown",
      "source": [
        "# Operations"
      ],
      "metadata": {
        "id": "srJ1v6BxgaT-"
      }
    },
    {
      "cell_type": "code",
      "source": [
        "y = torch.rand(2, 2)\n",
        "z = torch.rand(2, 2)\n",
        "\n",
        "#elementwise addition \n",
        "# in place addition, everythin with a trailing underscore is an inplace operation\n",
        "# i.e. it will modify the variable\n",
        "# y.add_(x)\n",
        "torch.add(y,z)\n",
        "\n"
      ],
      "metadata": {
        "colab": {
          "base_uri": "https://localhost:8080/"
        },
        "id": "C9wk2D6FgeST",
        "outputId": "69a77dcd-1996-41a3-840c-61a8a7abe8f7"
      },
      "execution_count": null,
      "outputs": [
        {
          "output_type": "execute_result",
          "data": {
            "text/plain": [
              "tensor([[1.3669, 0.6876],\n",
              "        [0.6876, 0.1330]])"
            ]
          },
          "metadata": {},
          "execution_count": 12
        }
      ]
    },
    {
      "cell_type": "code",
      "source": [
        "# substraction\n",
        "t = y - z\n",
        "torch.sub(y, z)\n",
        "#print(t)"
      ],
      "metadata": {
        "colab": {
          "base_uri": "https://localhost:8080/"
        },
        "id": "7YVxs6lshjxV",
        "outputId": "4b183cdb-9700-4261-edd6-a6bd6dd00683"
      },
      "execution_count": null,
      "outputs": [
        {
          "output_type": "execute_result",
          "data": {
            "text/plain": [
              "tensor([[-0.4985,  0.1223],\n",
              "        [-0.0989, -0.0992]])"
            ]
          },
          "metadata": {},
          "execution_count": 13
        }
      ]
    },
    {
      "cell_type": "code",
      "source": [
        "# multiplication\n",
        "t = y * z\n",
        "t = torch.mul(y,z)\n",
        "print(t)"
      ],
      "metadata": {
        "colab": {
          "base_uri": "https://localhost:8080/"
        },
        "id": "uSkmoEAIhxaV",
        "outputId": "9ad6a2a6-b516-41ae-8154-267ddf0e74f5"
      },
      "execution_count": null,
      "outputs": [
        {
          "output_type": "stream",
          "name": "stdout",
          "text": [
            "tensor([[0.4050, 0.1145],\n",
            "        [0.1158, 0.0020]])\n"
          ]
        }
      ]
    },
    {
      "cell_type": "code",
      "source": [
        "# division\n",
        "t = y / z\n",
        "t = torch.div(y, z)\n",
        "print(t)"
      ],
      "metadata": {
        "colab": {
          "base_uri": "https://localhost:8080/"
        },
        "id": "h1_TNE5dijwN",
        "outputId": "a86c2f10-dc59-4c58-fb79-d9e8b2abd12f"
      },
      "execution_count": null,
      "outputs": [
        {
          "output_type": "stream",
          "name": "stdout",
          "text": [
            "tensor([[0.4655, 1.4326],\n",
            "        [0.7485, 0.1456]])\n"
          ]
        }
      ]
    },
    {
      "cell_type": "markdown",
      "source": [
        "# Slicing through rows and columns"
      ],
      "metadata": {
        "id": "66qcPTC-jWe4"
      }
    },
    {
      "cell_type": "code",
      "source": [
        "x = torch.rand(5,3)\n",
        "\n",
        "print(x)\n",
        "print(x[:,0]) # all rows from column 0\n",
        "print(x[0,:]) # all column from Row 0\n",
        "print(x[1,1]) # element at 1,1\n",
        "print(x[1,2].item()) # Getting the actual value of only 1 element but must be 1 elemt of your tensor"
      ],
      "metadata": {
        "colab": {
          "base_uri": "https://localhost:8080/"
        },
        "id": "418rYGUXjeNc",
        "outputId": "fad22cf8-6b50-4d5e-c8af-045212c1afdb"
      },
      "execution_count": null,
      "outputs": [
        {
          "output_type": "stream",
          "name": "stdout",
          "text": [
            "tensor([[0.0971, 0.8966, 0.8745],\n",
            "        [0.8283, 0.3130, 0.0506],\n",
            "        [0.0670, 0.5437, 0.5866],\n",
            "        [0.7518, 0.6477, 0.5654],\n",
            "        [0.2498, 0.2543, 0.2653]])\n",
            "tensor([0.0971, 0.8283, 0.0670, 0.7518, 0.2498])\n",
            "tensor([0.0971, 0.8966, 0.8745])\n",
            "tensor(0.3130)\n",
            "0.05064857006072998\n"
          ]
        }
      ]
    },
    {
      "cell_type": "markdown",
      "source": [
        "# Reshape with torch.view()"
      ],
      "metadata": {
        "id": "Qnj1XjjuknvL"
      }
    },
    {
      "cell_type": "code",
      "source": [
        "x = torch.rand(4,4)\n",
        "y = x.view(16)\n",
        "z = x.view(-1,8) # the size -1 is inferred from other dimensions\n",
        "# if -1 it pytorch will automatically determine the necessary size\n",
        "\n",
        "print(x.size(), y.size(), z.size())\n",
        "print(x)\n",
        "print(y)\n",
        "print(z)"
      ],
      "metadata": {
        "colab": {
          "base_uri": "https://localhost:8080/"
        },
        "id": "WQXj1DRKkQvU",
        "outputId": "6cb99114-a547-42cf-8563-7a4574b068b8"
      },
      "execution_count": null,
      "outputs": [
        {
          "output_type": "stream",
          "name": "stdout",
          "text": [
            "torch.Size([4, 4]) torch.Size([16]) torch.Size([2, 8])\n",
            "tensor([[0.5414, 0.8826, 0.9051, 0.4838],\n",
            "        [0.7387, 0.4407, 0.0907, 0.0348],\n",
            "        [0.9646, 0.6064, 0.9997, 0.3242],\n",
            "        [0.4173, 0.3647, 0.1336, 0.4661]])\n",
            "tensor([0.5414, 0.8826, 0.9051, 0.4838, 0.7387, 0.4407, 0.0907, 0.0348, 0.9646,\n",
            "        0.6064, 0.9997, 0.3242, 0.4173, 0.3647, 0.1336, 0.4661])\n",
            "tensor([[0.5414, 0.8826, 0.9051, 0.4838, 0.7387, 0.4407, 0.0907, 0.0348],\n",
            "        [0.9646, 0.6064, 0.9997, 0.3242, 0.4173, 0.3647, 0.1336, 0.4661]])\n"
          ]
        }
      ]
    },
    {
      "cell_type": "markdown",
      "source": [
        "# Numpy"
      ],
      "metadata": {
        "id": "-zRJ9Oe_mnnz"
      }
    },
    {
      "cell_type": "code",
      "source": [
        "a = torch.ones(5)\n",
        "print(a)\n",
        "\n",
        "# torch to numpy with .numpy()\n",
        "b = a.numpy()\n",
        "print(b)\n",
        "print(type(b))\n",
        "\n",
        "# changing one object will also change the other \n",
        "a.add_(1)\n",
        "print(a)\n",
        "print(b)\n",
        "\n",
        "\n",
        "# numpy to torch with .from_numpy(x)\n",
        "import numpy as np\n",
        "a = np.ones(5)\n",
        "b = torch.from_numpy(a)\n",
        "print(a)\n",
        "print(b)\n",
        "\n",
        "a += 1\n",
        "print(a)\n",
        "print(b)"
      ],
      "metadata": {
        "colab": {
          "base_uri": "https://localhost:8080/"
        },
        "id": "ImcJSYmOmxP1",
        "outputId": "634e35a6-40ec-4c98-b566-7168a31e8092"
      },
      "execution_count": null,
      "outputs": [
        {
          "output_type": "stream",
          "name": "stdout",
          "text": [
            "tensor([1., 1., 1., 1., 1.])\n",
            "[1. 1. 1. 1. 1.]\n",
            "<class 'numpy.ndarray'>\n",
            "tensor([2., 2., 2., 2., 2.])\n",
            "[2. 2. 2. 2. 2.]\n",
            "[1. 1. 1. 1. 1.]\n",
            "tensor([1., 1., 1., 1., 1.], dtype=torch.float64)\n",
            "[2. 2. 2. 2. 2.]\n",
            "tensor([2., 2., 2., 2., 2.], dtype=torch.float64)\n"
          ]
        }
      ]
    },
    {
      "cell_type": "markdown",
      "source": [],
      "metadata": {
        "id": "SZjDRoosn_jt"
      }
    },
    {
      "cell_type": "code",
      "source": [
        "if torch.cuda.is_available():\n",
        "  device = torch.device(\"cuda\")\n",
        "  y = torch.ones_like(x, device = device)\n",
        "  x = x.to(device)\n",
        "  z = x + y\n",
        "  z.to(\"cpu\")\n",
        "  z = z.numpy()"
      ],
      "metadata": {
        "id": "FwMfHKwQoFWL"
      },
      "execution_count": null,
      "outputs": []
    },
    {
      "cell_type": "markdown",
      "source": [
        "#Autograde\n",
        "#autograd provides automatic differentiation for all operations of tensors"
      ],
      "metadata": {
        "id": "8Cqrx0gOzKws"
      }
    },
    {
      "cell_type": "code",
      "source": [
        "x = torch.randn(3, requires_grad= True)\n",
        "print(x)"
      ],
      "metadata": {
        "colab": {
          "base_uri": "https://localhost:8080/"
        },
        "id": "k-gnhWovzZ-v",
        "outputId": "c82ada2f-d958-46f2-fb8d-f465eb7452b5"
      },
      "execution_count": null,
      "outputs": [
        {
          "output_type": "stream",
          "name": "stdout",
          "text": [
            "tensor([1.0650, 0.2224, 0.5353], requires_grad=True)\n"
          ]
        }
      ]
    },
    {
      "cell_type": "code",
      "source": [
        "y = x + 2\n",
        "print(x)\n",
        "print(y)\n",
        "print(y.grad_fn)"
      ],
      "metadata": {
        "colab": {
          "base_uri": "https://localhost:8080/"
        },
        "id": "okbeZ3O5z311",
        "outputId": "e8c1622f-b08a-4a8c-8b8a-0d82edcb49b9"
      },
      "execution_count": null,
      "outputs": [
        {
          "output_type": "stream",
          "name": "stdout",
          "text": [
            "tensor([1.0650, 0.2224, 0.5353], requires_grad=True)\n",
            "tensor([3.0650, 2.2224, 2.5353], grad_fn=<AddBackward0>)\n",
            "<AddBackward0 object at 0x7f1f4ce7a2e0>\n"
          ]
        }
      ]
    },
    {
      "cell_type": "code",
      "source": [
        "z = y * y * 3\n",
        "print(z)\n",
        "z = z.mean()\n",
        "print(z)"
      ],
      "metadata": {
        "colab": {
          "base_uri": "https://localhost:8080/"
        },
        "id": "QDAuHGZZ0Lvw",
        "outputId": "5a872b7d-a7fd-4db2-c4a6-f7b9dcb9833f"
      },
      "execution_count": null,
      "outputs": [
        {
          "output_type": "stream",
          "name": "stdout",
          "text": [
            "tensor([28.1834, 14.8171, 19.2839], grad_fn=<MulBackward0>)\n",
            "tensor(20.7614, grad_fn=<MeanBackward0>)\n"
          ]
        }
      ]
    },
    {
      "cell_type": "code",
      "source": [
        "# Let's compute the gradients with backpropagation\n",
        "# When we finish our computation we can call .backward() and have all the gradients computed automatically.\n",
        "# The gradient for this tensor will be accumulated into .grad attribute.\n",
        "# It is the partial derivate of the function w.r.t. the tensor\n",
        "\n",
        "z.backward()\n",
        "print(x.grad)"
      ],
      "metadata": {
        "colab": {
          "base_uri": "https://localhost:8080/"
        },
        "id": "BrfbGNzl0mTl",
        "outputId": "464eaf45-c112-41a0-dac1-9f0cd88e7687"
      },
      "execution_count": null,
      "outputs": [
        {
          "output_type": "stream",
          "name": "stdout",
          "text": [
            "tensor([6.1301, 4.4448, 5.0707])\n"
          ]
        }
      ]
    },
    {
      "cell_type": "code",
      "source": [
        "# Model with non-scalar output:\n",
        "# If a Tensor is non-scalar (more than 1 elements), we need to specify arguments for backward() \n",
        "# specify a gradient argument that is a tensor of matching shape.\n",
        "# needed for vector-Jacobian product\n",
        "\n",
        "x = torch.randn(3, requires_grad = True)\n",
        "y = x * 2\n",
        "for _ in range(10):\n",
        "  y = y * 2\n",
        "\n",
        "print(y)\n",
        "print(y.shape) \n",
        "\n",
        "v = torch.tensor([0.1, 1.0, 0.0001], dtype = torch.float32)\n",
        "y.backward(v)\n",
        "print(x.grad)\n"
      ],
      "metadata": {
        "colab": {
          "base_uri": "https://localhost:8080/"
        },
        "id": "ynlKMSDo00GQ",
        "outputId": "b072060e-5f08-406a-9ad4-7be756489546"
      },
      "execution_count": null,
      "outputs": [
        {
          "output_type": "stream",
          "name": "stdout",
          "text": [
            "tensor([-4141.6802,    28.3565, -2676.0437], grad_fn=<MulBackward0>)\n",
            "torch.Size([3])\n",
            "tensor([2.0480e+02, 2.0480e+03, 2.0480e-01])\n"
          ]
        }
      ]
    },
    {
      "cell_type": "code",
      "source": [
        "# Stop a tensor from tracking history:\n",
        "# - x.requires_grad_(False)\n",
        "# - x.detach()\n",
        "# - wrap in 'with torch.no_grad():'\n",
        "\n",
        "# .requires_grad_(...) changes an existing flag in-place.\n",
        "a = torch.randn(2,2)\n",
        "print(a.requires_grad)\n",
        "b = ((a * 3) / (a - 1))\n",
        "print(b.grad_fn)\n",
        "a.requires_grad_(True)\n",
        "print(a.requires_grad)\n",
        "b = (a * a).sum()\n",
        "print(b.grad_fn)\n",
        "\n",
        "# .detach(): get a new Tensor with the same content but no gradient computation:\n",
        "a = torch.randn(2,2, requires_grad=True)\n",
        "print(a.requires_grad)\n",
        "b = a.detach()\n",
        "print(b.requires_grad)\n",
        "\n",
        "# wrap in 'with torch.no_grad():'\n",
        "a = torch.randn(2,2, requires_grad=True)\n",
        "print(a.requires_grad)\n",
        "with torch.no_grad():\n",
        "  print((x ** 2).requires_grad)"
      ],
      "metadata": {
        "colab": {
          "base_uri": "https://localhost:8080/"
        },
        "id": "l7a3P-dA11h1",
        "outputId": "fa3c6453-90a8-48ff-9ac4-c0995a6474fb"
      },
      "execution_count": null,
      "outputs": [
        {
          "output_type": "stream",
          "name": "stdout",
          "text": [
            "False\n",
            "None\n",
            "True\n",
            "<SumBackward0 object at 0x7f1ed1b56460>\n",
            "True\n",
            "False\n",
            "True\n",
            "False\n"
          ]
        }
      ]
    },
    {
      "cell_type": "code",
      "source": [
        "# -------------\n",
        "# backward() accumulates the gradient for this tensor into .grad attribute.\n",
        "# !!! We need to be careful during optimization !!!\n",
        "# Use .zero_() to empty the gradients before a new optimization step!\n",
        "\n",
        "weights = torch.ones(4, requires_grad = True)\n",
        "\n",
        "for epoch in range(3):\n",
        "  model_output = (weights * 3).sum()\n",
        "  model_output.backward()\n",
        "\n",
        "  print(weights.grad)\n",
        "\n",
        "  # optimize model, i.e. adjust weights...\n",
        "  with torch.no_grad():\n",
        "    weights -= 0.1 * weights.grad    \n",
        "\n",
        "    # this is important! It affects the final weights & output\n",
        "    weights.grad.zero_()\n",
        "\n",
        "print(weights)\n",
        "print(model_output)"
      ],
      "metadata": {
        "colab": {
          "base_uri": "https://localhost:8080/"
        },
        "id": "12BWFvpd3_9N",
        "outputId": "0a7df269-dd1a-4af9-b381-3223b6e184f2"
      },
      "execution_count": null,
      "outputs": [
        {
          "output_type": "stream",
          "name": "stdout",
          "text": [
            "tensor([3., 3., 3., 3.])\n",
            "tensor([3., 3., 3., 3.])\n",
            "tensor([3., 3., 3., 3.])\n",
            "tensor([0.1000, 0.1000, 0.1000, 0.1000], requires_grad=True)\n",
            "tensor(4.8000, grad_fn=<SumBackward0>)\n"
          ]
        }
      ]
    },
    {
      "cell_type": "markdown",
      "source": [
        "#BACKPROPAGATION"
      ],
      "metadata": {
        "id": "_PlK3rjCgdDU"
      }
    },
    {
      "cell_type": "code",
      "source": [
        "import torch\n",
        "\n",
        "x = torch.tensor(1.0)\n",
        "y = torch.tensor(2.0)\n",
        "\n",
        "w = torch.tensor(1.0, requires_grad= True)\n",
        "\n",
        "# forward pass to compute loss\n",
        "y_predicted = w * x\n",
        "loss = (y_predicted - y)**2\n",
        "print(loss)\n",
        "\n",
        "# backward pass to compute gradient dLoss/dw\n",
        "loss.backward()\n",
        "print(w.grad)\n",
        "\n",
        "# update weights\n",
        "# next forward and backward pass...\n",
        "# continue optimizing:\n",
        "# update weights, this operation should not be part of the computational graph\n",
        "with torch.no_grad():\n",
        "  w -= 0.01 * w.grad\n",
        "\n",
        "# don't forget to zero the gradients\n",
        "w.grad.zero_()"
      ],
      "metadata": {
        "colab": {
          "base_uri": "https://localhost:8080/"
        },
        "id": "pAC6kznAgOTk",
        "outputId": "f8f1aa56-3f26-400b-c4fa-c618195a91bf"
      },
      "execution_count": null,
      "outputs": [
        {
          "output_type": "stream",
          "name": "stdout",
          "text": [
            "tensor(1., grad_fn=<PowBackward0>)\n",
            "tensor(-2.)\n"
          ]
        },
        {
          "output_type": "execute_result",
          "data": {
            "text/plain": [
              "tensor(0.)"
            ]
          },
          "metadata": {},
          "execution_count": 2
        }
      ]
    },
    {
      "cell_type": "markdown",
      "source": [
        "#05 Gradientdescent manually"
      ],
      "metadata": {
        "id": "Cp4QIQnBilG_"
      }
    },
    {
      "cell_type": "code",
      "source": [
        "import numpy as np\n",
        "\n",
        "X = np.array([1, 2, 3, 4], dtype=np.float32 )\n",
        "Y = np.array([2, 4, 6, 8], dtype=np.float32 )\n",
        "\n",
        "w = 0.0\n",
        "\n",
        "def foward(x):\n",
        "  return w * x\n",
        "\n",
        "def loss(y, y_pred):\n",
        "  return ((y_pred - y)**2).mean()\n",
        "\n",
        "def gradient(x, y, y_pred):\n",
        "  return np.mean(2*x*(y_pred - y))\n",
        "\n",
        "print(f'Prediction before training: f(5) = {foward(5):.3f}')\n",
        "\n",
        "#Training\n",
        "learning_rate = 0.01\n",
        "n_iters = 20\n",
        "\n",
        "for epoch in range(n_iters):\n",
        "  y_pred = foward(X)\n",
        "\n",
        "  l = loss(Y, y_pred)\n",
        "\n",
        "  dw = gradient(X, Y, y_pred)\n",
        "\n",
        "  w -= learning_rate * dw\n",
        "\n",
        "  if epoch % 2 == 0:\n",
        "    print(f'epoch {epoch + 1}: {w:.3f}, loss = {l:.8f}')\n",
        "\n",
        "print(f'Prediction after training: f(5) = {foward(5):.3f}')\n",
        "\n"
      ],
      "metadata": {
        "colab": {
          "base_uri": "https://localhost:8080/"
        },
        "id": "eoDI7bEGirWb",
        "outputId": "7d057386-ebfb-4dc3-b0d9-0b60b02e0ac4"
      },
      "execution_count": null,
      "outputs": [
        {
          "output_type": "stream",
          "name": "stdout",
          "text": [
            "Prediction before training: f(5) = 0.000\n",
            "epoch 1: 0.300, loss = 30.00000000\n",
            "epoch 3: 0.772, loss = 15.66018677\n",
            "epoch 5: 1.113, loss = 8.17471600\n",
            "epoch 7: 1.359, loss = 4.26725292\n",
            "epoch 9: 1.537, loss = 2.22753215\n",
            "epoch 11: 1.665, loss = 1.16278565\n",
            "epoch 13: 1.758, loss = 0.60698175\n",
            "epoch 15: 1.825, loss = 0.31684822\n",
            "epoch 17: 1.874, loss = 0.16539653\n",
            "epoch 19: 1.909, loss = 0.08633806\n",
            "Prediction after training: f(5) = 9.612\n"
          ]
        }
      ]
    },
    {
      "cell_type": "markdown",
      "source": [
        "#06__Loss and Optmizer"
      ],
      "metadata": {
        "id": "J2QPgE_yzulA"
      }
    },
    {
      "cell_type": "code",
      "source": [
        "import torch\n",
        "import torch.nn as nn\n",
        "\n",
        "X = torch.tensor([1, 2, 3, 4], dtype = torch.float32)\n",
        "Y = torch.tensor([2, 4, 6, 8], dtype = torch.float32)\n",
        "\n",
        "w = torch.tensor(0.0, dtype = torch.float32, requires_grad = True)\n",
        "\n",
        "def foward(x):\n",
        "  return w * x\n",
        "\n",
        "print(f'Prediction before training: f(5) = {foward(5).item(): .3f}')\n",
        "\n",
        "learning_rate = 0.01\n",
        "n_itr = 100\n",
        "\n",
        "optimizer = torch.optim.SGD([w], lr =learning_rate)\n",
        "\n",
        "for epoch in range(n_iters):\n",
        "  y_predicted = foward(X)\n",
        "\n",
        "  l = loss(Y, y_predicted)\n",
        "\n",
        "  l.backward()\n",
        "\n",
        "  optimizer.step()\n",
        "\n",
        "  optimizer.zero_grad()\n",
        "\n",
        "  if epoch % 10 == 0:\n",
        "    print('epoch ', epoch+1, ':w = ', w, 'loss = ', l)\n",
        "\n",
        "print(f'Prediction after training: f(5) = {foward(5).item():.3f}')\n"
      ],
      "metadata": {
        "colab": {
          "base_uri": "https://localhost:8080/"
        },
        "id": "XtLQi92nz08H",
        "outputId": "35f4b15e-50b5-4732-ae1d-a91a74139ef5"
      },
      "execution_count": null,
      "outputs": [
        {
          "output_type": "stream",
          "name": "stdout",
          "text": [
            "Prediction before training: f(5) =  0.000\n",
            "epoch  1 :w =  tensor(0.3000, requires_grad=True) loss =  tensor(30., grad_fn=<MeanBackward0>)\n",
            "epoch  11 :w =  tensor(1.6653, requires_grad=True) loss =  tensor(1.1628, grad_fn=<MeanBackward0>)\n",
            "Prediction after training: f(5) = 9.612\n"
          ]
        }
      ]
    },
    {
      "cell_type": "markdown",
      "source": [
        "#06_02_model loss and and optimizer"
      ],
      "metadata": {
        "id": "Ue4BUGiJ7T4P"
      }
    },
    {
      "cell_type": "markdown",
      "source": [
        "#07 Linear_Regression"
      ],
      "metadata": {
        "id": "vPzpIM_0B3tQ"
      }
    },
    {
      "cell_type": "code",
      "source": [
        "import torch\n",
        "import torch.nn as nn\n",
        "import numpy as np\n",
        "from sklearn import datasets\n",
        "import matplotlib.pyplot as plt\n",
        "\n",
        "# 0) Prepare data\n",
        "X_numpy, y_numpy = datasets.make_regression(n_samples=100, n_features=1, noise=20, random_state=4)\n",
        "\n",
        "# cast to float Tensor\n",
        "X = torch.from_numpy(X_numpy.astype(np.float32))\n",
        "y = torch.from_numpy(y_numpy.astype(np.float32))\n",
        "y = y.view(y.shape[0], 1)\n",
        "\n",
        "n_samples, n_features = X.shape\n",
        "\n",
        "# Model\n",
        "# Linear model f = wx + b\n",
        "input_size = n_features\n",
        "output_size = 1\n",
        "model = nn.Linear(input_size, output_size)\n",
        "\n",
        "# Loss and optimizer\n",
        "learning_rate = 0.01\n",
        "\n",
        "criterion = nn.MSELoss()\n",
        "optimizer = torch.optim.SGD(model.parameters(), lr=learning_rate)  \n",
        "\n",
        "# Training loop\n",
        "num_epochs = 100\n",
        "for epoch in range(num_epochs):\n",
        "    #Forward pass and loss\n",
        "    y_predicted = model(X)\n",
        "    loss = criterion(y_predicted, y)\n",
        "    \n",
        "    #Backward pass and update\n",
        "    loss.backward()\n",
        "    optimizer.step()\n",
        "\n",
        "    #zero grad before new step\n",
        "    optimizer.zero_grad()\n",
        "\n",
        "    if (epoch+1) % 10 == 0:\n",
        "        print(f'epoch: {epoch+1}, loss = {loss.item():.4f}')\n",
        "\n",
        "# Plot\n",
        "predicted = model(X).detach().numpy()\n",
        "\n",
        "plt.plot(X_numpy, y_numpy, 'ro')\n",
        "plt.plot(X_numpy, predicted, 'b')\n",
        "plt.show()"
      ],
      "metadata": {
        "colab": {
          "base_uri": "https://localhost:8080/",
          "height": 444
        },
        "id": "OLw5ZMgkB8V2",
        "outputId": "707bb0c5-dd78-4905-eaa9-9cbc32c3aa1b"
      },
      "execution_count": null,
      "outputs": [
        {
          "output_type": "stream",
          "name": "stdout",
          "text": [
            "epoch: 10, loss = 4093.6843\n",
            "epoch: 20, loss = 2883.2634\n",
            "epoch: 30, loss = 2058.4160\n",
            "epoch: 40, loss = 1496.1957\n",
            "epoch: 50, loss = 1112.9012\n",
            "epoch: 60, loss = 851.5341\n",
            "epoch: 70, loss = 673.2717\n",
            "epoch: 80, loss = 551.6653\n",
            "epoch: 90, loss = 468.6921\n",
            "epoch: 100, loss = 412.0675\n"
          ]
        },
        {
          "output_type": "display_data",
          "data": {
            "text/plain": [
              "<Figure size 432x288 with 1 Axes>"
            ],
            "image/png": "[encoded data removed]"
          },
          "metadata": {
            "needs_background": "light"
          }
        }
      ]
    },
    {
      "cell_type": "code",
      "source": [],
      "metadata": {
        "id": "O5w_Z85zF6pZ"
      },
      "execution_count": null,
      "outputs": []
    },
    {
      "cell_type": "code",
      "source": [
        "from google.colab import files\n",
        "\n",
        "uploaded = files.upload()\n"
      ],
      "metadata": {
        "colab": {
          "base_uri": "https://localhost:8080/",
          "height": 74
        },
        "outputId": "19c54f6b-4a5b-432f-b146-fa494a8b6f78",
        "id": "JkWLBivKGXdV"
      },
      "execution_count": null,
      "outputs": [
        {
          "output_type": "display_data",
          "data": {
            "text/plain": [
              "<IPython.core.display.HTML object>"
            ],
            "text/html": [
              "\n",
              "     <input type=\"file\" id=\"files-ac9e87e0-5000-4b1a-993e-3d329b2bb8f7\" name=\"files[]\" multiple disabled\n",
              "        style=\"border:none\" />\n",
              "     <output id=\"result-ac9e87e0-5000-4b1a-993e-3d329b2bb8f7\">\n",
              "      Upload widget is only available when the cell has been executed in the\n",
              "      current browser session. Please rerun this cell to enable.\n",
              "      </output>\n",
              "      <script>// Copyright 2017 Google LLC\n",
              "//\n",
              "// Licensed under the Apache License, Version 2.0 (the \"License\");\n",
              "// you may not use this file except in compliance with the License.\n",
              "// You may obtain a copy of the License at\n",
              "//\n",
              "//      http://www.apache.org/licenses/LICENSE-2.0\n",
              "//\n",
              "// Unless required by applicable law or agreed to in writing, software\n",
              "// distributed under the License is distributed on an \"AS IS\" BASIS,\n",
              "// WITHOUT WARRANTIES OR CONDITIONS OF ANY KIND, either express or implied.\n",
              "// See the License for the specific language governing permissions and\n",
              "// limitations under the License.\n",
              "\n",
              "/**\n",
              " * @fileoverview Helpers for google.colab Python module.\n",
              " */\n",
              "(function(scope) {\n",
              "function span(text, styleAttributes = {}) {\n",
              "  const element = document.createElement('span');\n",
              "  element.textContent = text;\n",
              "  for (const key of Object.keys(styleAttributes)) {\n",
              "    element.style[key] = styleAttributes[key];\n",
              "  }\n",
              "  return element;\n",
              "}\n",
              "\n",
              "// Max number of bytes which will be uploaded at a time.\n",
              "const MAX_PAYLOAD_SIZE = 100 * 1024;\n",
              "\n",
              "function _uploadFiles(inputId, outputId) {\n",
              "  const steps = uploadFilesStep(inputId, outputId);\n",
              "  const outputElement = document.getElementById(outputId);\n",
              "  // Cache steps on the outputElement to make it available for the next call\n",
              "  // to uploadFilesContinue from Python.\n",
              "  outputElement.steps = steps;\n",
              "\n",
              "  return _uploadFilesContinue(outputId);\n",
              "}\n",
              "\n",
              "// This is roughly an async generator (not supported in the browser yet),\n",
              "// where there are multiple asynchronous steps and the Python side is going\n",
              "// to poll for completion of each step.\n",
              "// This uses a Promise to block the python side on completion of each step,\n",
              "// then passes the result of the previous step as the input to the next step.\n",
              "function _uploadFilesContinue(outputId) {\n",
              "  const outputElement = document.getElementById(outputId);\n",
              "  const steps = outputElement.steps;\n",
              "\n",
              "  const next = steps.next(outputElement.lastPromiseValue);\n",
              "  return Promise.resolve(next.value.promise).then((value) => {\n",
              "    // Cache the last promise value to make it available to the next\n",
              "    // step of the generator.\n",
              "    outputElement.lastPromiseValue = value;\n",
              "    return next.value.response;\n",
              "  });\n",
              "}\n",
              "\n",
              "/**\n",
              " * Generator function which is called between each async step of the upload\n",
              " * process.\n",
              " * @param {string} inputId Element ID of the input file picker element.\n",
              " * @param {string} outputId Element ID of the output display.\n",
              " * @return {!Iterable<!Object>} Iterable of next steps.\n",
              " */\n",
              "function* uploadFilesStep(inputId, outputId) {\n",
              "  const inputElement = document.getElementById(inputId);\n",
              "  inputElement.disabled = false;\n",
              "\n",
              "  const outputElement = document.getElementById(outputId);\n",
              "  outputElement.innerHTML = '';\n",
              "\n",
              "  const pickedPromise = new Promise((resolve) => {\n",
              "    inputElement.addEventListener('change', (e) => {\n",
              "      resolve(e.target.files);\n",
              "    });\n",
              "  });\n",
              "\n",
              "  const cancel = document.createElement('button');\n",
              "  inputElement.parentElement.appendChild(cancel);\n",
              "  cancel.textContent = 'Cancel upload';\n",
              "  const cancelPromise = new Promise((resolve) => {\n",
              "    cancel.onclick = () => {\n",
              "      resolve(null);\n",
              "    };\n",
              "  });\n",
              "\n",
              "  // Wait for the user to pick the files.\n",
              "  const files = yield {\n",
              "    promise: Promise.race([pickedPromise, cancelPromise]),\n",
              "    response: {\n",
              "      action: 'starting',\n",
              "    }\n",
              "  };\n",
              "\n",
              "  cancel.remove();\n",
              "\n",
              "  // Disable the input element since further picks are not allowed.\n",
              "  inputElement.disabled = true;\n",
              "\n",
              "  if (!files) {\n",
              "    return {\n",
              "      response: {\n",
              "        action: 'complete',\n",
              "      }\n",
              "    };\n",
              "  }\n",
              "\n",
              "  for (const file of files) {\n",
              "    const li = document.createElement('li');\n",
              "    li.append(span(file.name, {fontWeight: 'bold'}));\n",
              "    li.append(span(\n",
              "        `(${file.type || 'n/a'}) - ${file.size} bytes, ` +\n",
              "        `last modified: ${\n",
              "            file.lastModifiedDate ? file.lastModifiedDate.toLocaleDateString() :\n",
              "                                    'n/a'} - `));\n",
              "    const percent = span('0% done');\n",
              "    li.appendChild(percent);\n",
              "\n",
              "    outputElement.appendChild(li);\n",
              "\n",
              "    const fileDataPromise = new Promise((resolve) => {\n",
              "      const reader = new FileReader();\n",
              "      reader.onload = (e) => {\n",
              "        resolve(e.target.result);\n",
              "      };\n",
              "      reader.readAsArrayBuffer(file);\n",
              "    });\n",
              "    // Wait for the data to be ready.\n",
              "    let fileData = yield {\n",
              "      promise: fileDataPromise,\n",
              "      response: {\n",
              "        action: 'continue',\n",
              "      }\n",
              "    };\n",
              "\n",
              "    // Use a chunked sending to avoid message size limits. See b/62115660.\n",
              "    let position = 0;\n",
              "    do {\n",
              "      const length = Math.min(fileData.byteLength - position, MAX_PAYLOAD_SIZE);\n",
              "      const chunk = new Uint8Array(fileData, position, length);\n",
              "      position += length;\n",
              "\n",
              "      const base64 = btoa(String.fromCharCode.apply(null, chunk));\n",
              "      yield {\n",
              "        response: {\n",
              "          action: 'append',\n",
              "          file: file.name,\n",
              "          data: base64,\n",
              "        },\n",
              "      };\n",
              "\n",
              "      let percentDone = fileData.byteLength === 0 ?\n",
              "          100 :\n",
              "          Math.round((position / fileData.byteLength) * 100);\n",
              "      percent.textContent = `${percentDone}% done`;\n",
              "\n",
              "    } while (position < fileData.byteLength);\n",
              "  }\n",
              "\n",
              "  // All done.\n",
              "  yield {\n",
              "    response: {\n",
              "      action: 'complete',\n",
              "    }\n",
              "  };\n",
              "}\n",
              "\n",
              "scope.google = scope.google || {};\n",
              "scope.google.colab = scope.google.colab || {};\n",
              "scope.google.colab._files = {\n",
              "  _uploadFiles,\n",
              "  _uploadFilesContinue,\n",
              "};\n",
              "})(self);\n",
              "</script> "
            ]
          },
          "metadata": {}
        },
        {
          "output_type": "stream",
          "name": "stdout",
          "text": [
            "Saving wine.csv to wine.csv\n"
          ]
        }
      ]
    },
    {
      "cell_type": "code",
      "execution_count": null,
      "metadata": {
        "colab": {
          "base_uri": "https://localhost:8080/"
        },
        "outputId": "e1507b35-5e65-4893-b894-79fd529d2cb2",
        "id": "k1zd6-RAGXda"
      },
      "outputs": [
        {
          "output_type": "stream",
          "name": "stdout",
          "text": [
            "(178, 14)\n"
          ]
        }
      ],
      "source": [
        "import numpy as np\n",
        "xy = np.loadtxt('/content/wine.csv',delimiter=\",\",dtype=np.float32,skiprows = 1)\n",
        "print(xy.shape)"
      ]
    },
    {
      "cell_type": "code",
      "source": [
        "n_samples = xy.shape[0]\n",
        "n_features = xy.shape[1] -1\n",
        "\n",
        "print(n_samples, ' ', n_features)"
      ],
      "metadata": {
        "colab": {
          "base_uri": "https://localhost:8080/"
        },
        "outputId": "e298b395-c9f9-4d4e-f891-db811e99e26d",
        "id": "X_oqMQJxGXdf"
      },
      "execution_count": null,
      "outputs": [
        {
          "output_type": "stream",
          "name": "stdout",
          "text": [
            "178   13\n"
          ]
        }
      ]
    },
    {
      "cell_type": "code",
      "source": [
        "x = xy[:, 1:]\n",
        "y = xy[:, [0] ]\n",
        "\n",
        "print(x.shape)\n",
        "print(y.shape)"
      ],
      "metadata": {
        "colab": {
          "base_uri": "https://localhost:8080/"
        },
        "outputId": "1a30cd87-cee0-42a6-f127-e20394b16f3c",
        "id": "Cdv2xSCQGXdh"
      },
      "execution_count": null,
      "outputs": [
        {
          "output_type": "stream",
          "name": "stdout",
          "text": [
            "(178, 13)\n",
            "(178, 1)\n"
          ]
        }
      ]
    },
    {
      "cell_type": "code",
      "source": [
        "import torch\n",
        "import torchvision\n",
        "from torch.utils.data import Dataset, DataLoader\n",
        "import numpy as np\n",
        "import math\n",
        "\n",
        "class WineDataset(Dataset):\n",
        "  def  __init__(self):\n",
        "    #data loading fro csv\n",
        "    xy = np.loadtxt('/content/wine.csv',delimiter=\",\",dtype=np.float32,skiprows = 1)\n",
        "    self.x = torch.from_numpy(xy[:, 1:])\n",
        "    self.y = torch.from_numpy(xy[:, [0]])\n",
        "    self.n_samples = xy.shape[0]\n",
        "    self.n_features = xy.shape[1]\n",
        "    \n",
        "  def __getitem__(self, index):\n",
        "    return self.x[index], self.y[index]\n",
        "\n",
        "  def __len__(self):\n",
        "    return self.n_samples\n",
        "\n",
        "\n",
        "dataset = WineDataset()\n",
        "first_data = dataset[0]\n",
        "features, labels = first_data\n",
        "print(features, labels)\n",
        "\n"
      ],
      "metadata": {
        "colab": {
          "base_uri": "https://localhost:8080/"
        },
        "outputId": "18ac86ac-0298-4c6b-fed6-0dfbe2db804c",
        "id": "QofIiJTEGXdm"
      },
      "execution_count": null,
      "outputs": [
        {
          "output_type": "stream",
          "name": "stdout",
          "text": [
            "tensor([1.4230e+01, 1.7100e+00, 2.4300e+00, 1.5600e+01, 1.2700e+02, 2.8000e+00,\n",
            "        3.0600e+00, 2.8000e-01, 2.2900e+00, 5.6400e+00, 1.0400e+00, 3.9200e+00,\n",
            "        1.0650e+03]) tensor([1.])\n"
          ]
        }
      ]
    },
    {
      "cell_type": "code",
      "source": [],
      "metadata": {
        "id": "NHBdoU0-HYiT"
      },
      "execution_count": null,
      "outputs": []
    },
    {
      "cell_type": "code",
      "source": [
        "dataset = WineDataset()"
      ],
      "metadata": {
        "id": "Amscmlv5GXdq"
      },
      "execution_count": null,
      "outputs": []
    },
    {
      "cell_type": "code",
      "source": [
        "\n",
        "dataloader = DataLoader(dataset=dataset, batch_size=4, shuffle=True, num_workers=2)\n"
      ],
      "metadata": {
        "id": "PuA8FkCUGXdt"
      },
      "execution_count": null,
      "outputs": []
    },
    {
      "cell_type": "code",
      "source": [],
      "metadata": {
        "id": "W7DMrwuDGXdv"
      },
      "execution_count": null,
      "outputs": []
    },
    {
      "cell_type": "code",
      "source": [
        "#iterate through different batches\n",
        "dataiter = iter(dataloader)\n",
        "data = next(dataiter)\n",
        "\n",
        "features, labels = data\n",
        "print(features)\n",
        "print(labels)"
      ],
      "metadata": {
        "colab": {
          "base_uri": "https://localhost:8080/"
        },
        "outputId": "4cf8b6a8-f699-4799-8f51-62ab10d31795",
        "id": "PPx3fzYwGXdw"
      },
      "execution_count": null,
      "outputs": [
        {
          "output_type": "stream",
          "name": "stdout",
          "text": [
            "tensor([[1.3880e+01, 5.0400e+00, 2.2300e+00, 2.0000e+01, 8.0000e+01, 9.8000e-01,\n",
            "         3.4000e-01, 4.0000e-01, 6.8000e-01, 4.9000e+00, 5.8000e-01, 1.3300e+00,\n",
            "         4.1500e+02],\n",
            "        [1.3720e+01, 1.4300e+00, 2.5000e+00, 1.6700e+01, 1.0800e+02, 3.4000e+00,\n",
            "         3.6700e+00, 1.9000e-01, 2.0400e+00, 6.8000e+00, 8.9000e-01, 2.8700e+00,\n",
            "         1.2850e+03],\n",
            "        [1.2340e+01, 2.4500e+00, 2.4600e+00, 2.1000e+01, 9.8000e+01, 2.5600e+00,\n",
            "         2.1100e+00, 3.4000e-01, 1.3100e+00, 2.8000e+00, 8.0000e-01, 3.3800e+00,\n",
            "         4.3800e+02],\n",
            "        [1.3400e+01, 3.9100e+00, 2.4800e+00, 2.3000e+01, 1.0200e+02, 1.8000e+00,\n",
            "         7.5000e-01, 4.3000e-01, 1.4100e+00, 7.3000e+00, 7.0000e-01, 1.5600e+00,\n",
            "         7.5000e+02]])\n",
            "tensor([[3.],\n",
            "        [1.],\n",
            "        [2.],\n",
            "        [3.]])\n"
          ]
        }
      ]
    },
    {
      "cell_type": "code",
      "source": [
        "import math\n",
        "num_epoch = 2\n",
        "total_samples = len(dataset)\n",
        "batch_size = 4\n",
        "n_step = math.ceil(total_samples / batch_size)\n",
        "\n",
        "#iterate through the batches\n",
        "for epoch in range(num_epoch):\n",
        "  for i, (features, labels) in enumerate(dataloader):\n",
        "\n",
        "    if(i+1)%5 ==0:\n",
        "      print(f'epoch {epoch+1}/{num_epoch}, Step{i+1}/{n_step}, inputs')"
      ],
      "metadata": {
        "colab": {
          "base_uri": "https://localhost:8080/"
        },
        "outputId": "5c6cd46a-1a4f-42a2-f1de-02324eb6c615",
        "id": "EpfpN4FAGXdy"
      },
      "execution_count": null,
      "outputs": [
        {
          "output_type": "stream",
          "name": "stdout",
          "text": [
            "epoch 1/2, Step5/45, inputs\n",
            "epoch 1/2, Step10/45, inputs\n",
            "epoch 1/2, Step15/45, inputs\n",
            "epoch 1/2, Step20/45, inputs\n",
            "epoch 1/2, Step25/45, inputs\n",
            "epoch 1/2, Step30/45, inputs\n",
            "epoch 1/2, Step35/45, inputs\n",
            "epoch 1/2, Step40/45, inputs\n",
            "epoch 1/2, Step45/45, inputs\n",
            "epoch 2/2, Step5/45, inputs\n",
            "epoch 2/2, Step10/45, inputs\n",
            "epoch 2/2, Step15/45, inputs\n",
            "epoch 2/2, Step20/45, inputs\n",
            "epoch 2/2, Step25/45, inputs\n",
            "epoch 2/2, Step30/45, inputs\n",
            "epoch 2/2, Step35/45, inputs\n",
            "epoch 2/2, Step40/45, inputs\n",
            "epoch 2/2, Step45/45, inputs\n"
          ]
        }
      ]
    },
    {
      "cell_type": "code",
      "source": [],
      "metadata": {
        "id": "SyrSKob_GXd1"
      },
      "execution_count": null,
      "outputs": []
    },
    {
      "cell_type": "code",
      "source": [
        "import torch\n",
        "import torchvision\n",
        "import torch.nn as nn\n",
        "import torchvision.transforms as transforms\n",
        "import matplotlib.pyplot as plt"
      ],
      "metadata": {
        "id": "nbbO-v56GXd4"
      },
      "execution_count": null,
      "outputs": []
    },
    {
      "cell_type": "code",
      "source": [
        "device = torch.device('cuda' if torch.cuda.is_available() else 'cpu' )\n",
        "print(device)"
      ],
      "metadata": {
        "colab": {
          "base_uri": "https://localhost:8080/"
        },
        "outputId": "c69592b7-a805-4bb9-aa0d-93887d897f67",
        "id": "oQeHOmq7GXd5"
      },
      "execution_count": null,
      "outputs": [
        {
          "output_type": "stream",
          "name": "stdout",
          "text": [
            "cpu\n"
          ]
        }
      ]
    },
    {
      "cell_type": "code",
      "source": [
        "#Hyperparams\n",
        "\n",
        "input_size = 784    # 28 * 28\n",
        "hidden_state = 500\n",
        "num_classes = 10\n",
        "num_epoch = 5\n",
        "batch_size = 64\n",
        "learning_rate = 0.001\n"
      ],
      "metadata": {
        "id": "Lpno-SWbGXd7"
      },
      "execution_count": null,
      "outputs": []
    },
    {
      "cell_type": "code",
      "source": [
        "train_dataset = torchvision.datasets.MNIST(\n",
        "    root = '/data',\n",
        "    train = True,\n",
        "    transform = transforms.ToTensor(),\n",
        "    download = True\n",
        ")"
      ],
      "metadata": {
        "colab": {
          "base_uri": "https://localhost:8080/",
          "height": 430,
          "referenced_widgets": [
            "c1028bf8b23f45bf976b1d78e9cf835f",
            "fc7e98065e264e5c94539cdf2b4298dd",
            "100cd617baa84181bc4054d846239d7d",
            "09f6f72d28414f3c86b11c5055adc7f9",
            "b71aa7d49ba54b7f8c521ca78eb4480b",
            "51ed042672bf4fda9dacaeade0e6424e",
            "92db8dc9ab08461f9538ade6f31f00d0",
            "a9412a36d4164cd8b5a92602ade83f7b",
            "611b48e8a8ed4972bf593a758c220d1c",
            "b946ae79904e45e29fd62b06bae55789",
            "b7c911ec26b04e15b5e86ebdd7196ed5",
            "c4701ecebc8e4e90827a848b94986890",
            "1693b0fb064e44e28f641b4265f379a3",
            "8e337297fdc3412ab6c29b09e842d0bc",
            "8524f2fe7f55423aa94cf9e0b9b1d3d3",
            "3a41f746f681400dbe382df8aef6148a",
            "b5bb76c74c61414cab4bd3bdfbab69ca",
            "aa5d7097e737411491a29aa04272691f",
            "abada8f9bc3c47b38e794d3c1479745b",
            "2ad5dd662c194a96ba1c2f4c95ad2157",
            "07b3c1720d5e432fb01af005fd9ca39a",
            "c1c21c03f2664dfa9f7ff740be10b8b5",
            "942b4b29126f473996a8903d6af3496a",
            "6c9d473d1e6c4fc1ba7515b8c1287313",
            "207e2447e6824a5ca71352b20084f747",
            "167aa23fa0b14cab99c61f880245df58",
            "d50c3db15a274a2492956a327a2beb4d",
            "3baa68eeb9f74f8eba0eef4ddcfa313e",
            "438a4f98b2d64a84931e5d9c7fa7c597",
            "f9cdc7eced234dc488e0598687635568",
            "ee3a41e57b5b45d8ba6b2b375ae859d1",
            "4be48ee1b3144be285ab7db200cce47e",
            "bad58aa1a21a438e85cd5eaf8fc1e3b7",
            "69e562c13c2c42409f0490f3b2b9735f",
            "6d0c540c0be24cd79954df0a25a78ca5",
            "bcb24fd48b6048349373cc1fc14b4050",
            "e9173ccdd7704248a92246f970e6d331",
            "a901a271eac3426f87bf03480a6e6c71",
            "6d024b5ee07b4e9aa3775c5e5101b0fa",
            "9b145c2718e344b79a1853a5042797d5",
            "699af594c1d34ba6b9807eece77d71e6",
            "d53e16c946964884862025f0847c9d55",
            "c83cc86bead14de1bb4ac7d2d53a1b49",
            "b1ac311560d34e5287db5eddbcc7be2b"
          ]
        },
        "outputId": "9bd51912-0b3c-422a-c70d-47959ff05612",
        "id": "N3f7K3bjGXd7"
      },
      "execution_count": null,
      "outputs": [
        {
          "output_type": "stream",
          "name": "stdout",
          "text": [
            "Downloading http://yann.lecun.com/exdb/mnist/train-images-idx3-ubyte.gz\n",
            "Downloading http://yann.lecun.com/exdb/mnist/train-images-idx3-ubyte.gz to /data/MNIST/raw/train-images-idx3-ubyte.gz\n"
          ]
        },
        {
          "output_type": "display_data",
          "data": {
            "text/plain": [
              "  0%|          | 0/9912422 [00:00<?, ?it/s]"
            ],
            "application/vnd.jupyter.widget-view+json": {
              "version_major": 2,
              "version_minor": 0,
              "model_id": "c1028bf8b23f45bf976b1d78e9cf835f"
            }
          },
          "metadata": {}
        },
        {
          "output_type": "stream",
          "name": "stdout",
          "text": [
            "Extracting /data/MNIST/raw/train-images-idx3-ubyte.gz to /data/MNIST/raw\n",
            "\n",
            "Downloading http://yann.lecun.com/exdb/mnist/train-labels-idx1-ubyte.gz\n",
            "Downloading http://yann.lecun.com/exdb/mnist/train-labels-idx1-ubyte.gz to /data/MNIST/raw/train-labels-idx1-ubyte.gz\n"
          ]
        },
        {
          "output_type": "display_data",
          "data": {
            "text/plain": [
              "  0%|          | 0/28881 [00:00<?, ?it/s]"
            ],
            "application/vnd.jupyter.widget-view+json": {
              "version_major": 2,
              "version_minor": 0,
              "model_id": "c4701ecebc8e4e90827a848b94986890"
            }
          },
          "metadata": {}
        },
        {
          "output_type": "stream",
          "name": "stdout",
          "text": [
            "Extracting /data/MNIST/raw/train-labels-idx1-ubyte.gz to /data/MNIST/raw\n",
            "\n",
            "Downloading http://yann.lecun.com/exdb/mnist/t10k-images-idx3-ubyte.gz\n",
            "Downloading http://yann.lecun.com/exdb/mnist/t10k-images-idx3-ubyte.gz to /data/MNIST/raw/t10k-images-idx3-ubyte.gz\n"
          ]
        },
        {
          "output_type": "display_data",
          "data": {
            "text/plain": [
              "  0%|          | 0/1648877 [00:00<?, ?it/s]"
            ],
            "application/vnd.jupyter.widget-view+json": {
              "version_major": 2,
              "version_minor": 0,
              "model_id": "942b4b29126f473996a8903d6af3496a"
            }
          },
          "metadata": {}
        },
        {
          "output_type": "stream",
          "name": "stdout",
          "text": [
            "Extracting /data/MNIST/raw/t10k-images-idx3-ubyte.gz to /data/MNIST/raw\n",
            "\n",
            "Downloading http://yann.lecun.com/exdb/mnist/t10k-labels-idx1-ubyte.gz\n",
            "Downloading http://yann.lecun.com/exdb/mnist/t10k-labels-idx1-ubyte.gz to /data/MNIST/raw/t10k-labels-idx1-ubyte.gz\n"
          ]
        },
        {
          "output_type": "display_data",
          "data": {
            "text/plain": [
              "  0%|          | 0/4542 [00:00<?, ?it/s]"
            ],
            "application/vnd.jupyter.widget-view+json": {
              "version_major": 2,
              "version_minor": 0,
              "model_id": "69e562c13c2c42409f0490f3b2b9735f"
            }
          },
          "metadata": {}
        },
        {
          "output_type": "stream",
          "name": "stdout",
          "text": [
            "Extracting /data/MNIST/raw/t10k-labels-idx1-ubyte.gz to /data/MNIST/raw\n",
            "\n"
          ]
        }
      ]
    },
    {
      "cell_type": "code",
      "source": [
        "test_dataset = torchvision.datasets.MNIST(\n",
        "    root = '/data',\n",
        "    train = True,\n",
        "    transform = transforms.ToTensor(),\n",
        "    download = True\n",
        ")"
      ],
      "metadata": {
        "id": "CkE5FT0UGXd9"
      },
      "execution_count": null,
      "outputs": []
    },
    {
      "cell_type": "code",
      "source": [
        "train_loader = torch.utils.data.DataLoader(\n",
        "    dataset = train_dataset,\n",
        "    batch_size = batch_size,\n",
        "    shuffle = True\n",
        ")\n",
        "\n",
        "test_loader = torch.utils.data.DataLoader(\n",
        "    dataset = test_dataset,\n",
        "    batch_size = batch_size,\n",
        "    shuffle = False\n",
        ")"
      ],
      "metadata": {
        "id": "08bHEsKvGXd-"
      },
      "execution_count": null,
      "outputs": []
    },
    {
      "cell_type": "code",
      "source": [
        "#first test batch \n",
        "first_test_data = iter(test_loader)\n",
        "data, label = next(first_test_data)\n",
        "print(data.shape)\n",
        "print(label.shape)\n",
        "print(data)\n",
        "print(label)"
      ],
      "metadata": {
        "colab": {
          "base_uri": "https://localhost:8080/"
        },
        "outputId": "8954f753-66c8-4c25-d1ad-c295369fe61d",
        "id": "7Vsqd2r6GXd_"
      },
      "execution_count": null,
      "outputs": [
        {
          "output_type": "stream",
          "name": "stdout",
          "text": [
            "torch.Size([64, 1, 28, 28])\n",
            "torch.Size([64])\n",
            "tensor([[[[0., 0., 0.,  ..., 0., 0., 0.],\n",
            "          [0., 0., 0.,  ..., 0., 0., 0.],\n",
            "          [0., 0., 0.,  ..., 0., 0., 0.],\n",
            "          ...,\n",
            "          [0., 0., 0.,  ..., 0., 0., 0.],\n",
            "          [0., 0., 0.,  ..., 0., 0., 0.],\n",
            "          [0., 0., 0.,  ..., 0., 0., 0.]]],\n",
            "\n",
            "\n",
            "        [[[0., 0., 0.,  ..., 0., 0., 0.],\n",
            "          [0., 0., 0.,  ..., 0., 0., 0.],\n",
            "          [0., 0., 0.,  ..., 0., 0., 0.],\n",
            "          ...,\n",
            "          [0., 0., 0.,  ..., 0., 0., 0.],\n",
            "          [0., 0., 0.,  ..., 0., 0., 0.],\n",
            "          [0., 0., 0.,  ..., 0., 0., 0.]]],\n",
            "\n",
            "\n",
            "        [[[0., 0., 0.,  ..., 0., 0., 0.],\n",
            "          [0., 0., 0.,  ..., 0., 0., 0.],\n",
            "          [0., 0., 0.,  ..., 0., 0., 0.],\n",
            "          ...,\n",
            "          [0., 0., 0.,  ..., 0., 0., 0.],\n",
            "          [0., 0., 0.,  ..., 0., 0., 0.],\n",
            "          [0., 0., 0.,  ..., 0., 0., 0.]]],\n",
            "\n",
            "\n",
            "        ...,\n",
            "\n",
            "\n",
            "        [[[0., 0., 0.,  ..., 0., 0., 0.],\n",
            "          [0., 0., 0.,  ..., 0., 0., 0.],\n",
            "          [0., 0., 0.,  ..., 0., 0., 0.],\n",
            "          ...,\n",
            "          [0., 0., 0.,  ..., 0., 0., 0.],\n",
            "          [0., 0., 0.,  ..., 0., 0., 0.],\n",
            "          [0., 0., 0.,  ..., 0., 0., 0.]]],\n",
            "\n",
            "\n",
            "        [[[0., 0., 0.,  ..., 0., 0., 0.],\n",
            "          [0., 0., 0.,  ..., 0., 0., 0.],\n",
            "          [0., 0., 0.,  ..., 0., 0., 0.],\n",
            "          ...,\n",
            "          [0., 0., 0.,  ..., 0., 0., 0.],\n",
            "          [0., 0., 0.,  ..., 0., 0., 0.],\n",
            "          [0., 0., 0.,  ..., 0., 0., 0.]]],\n",
            "\n",
            "\n",
            "        [[[0., 0., 0.,  ..., 0., 0., 0.],\n",
            "          [0., 0., 0.,  ..., 0., 0., 0.],\n",
            "          [0., 0., 0.,  ..., 0., 0., 0.],\n",
            "          ...,\n",
            "          [0., 0., 0.,  ..., 0., 0., 0.],\n",
            "          [0., 0., 0.,  ..., 0., 0., 0.],\n",
            "          [0., 0., 0.,  ..., 0., 0., 0.]]]])\n",
            "tensor([5, 0, 4, 1, 9, 2, 1, 3, 1, 4, 3, 5, 3, 6, 1, 7, 2, 8, 6, 9, 4, 0, 9, 1,\n",
            "        1, 2, 4, 3, 2, 7, 3, 8, 6, 9, 0, 5, 6, 0, 7, 6, 1, 8, 7, 9, 3, 9, 8, 5,\n",
            "        9, 3, 3, 0, 7, 4, 9, 8, 0, 9, 4, 1, 4, 4, 6, 0])\n"
          ]
        }
      ]
    },
    {
      "cell_type": "code",
      "source": [
        "for i in range(6):\n",
        "  plt.subplot(2,3,i+1)\n",
        "  plt.imshow(data[i][0], cmap='gray')"
      ],
      "metadata": {
        "colab": {
          "base_uri": "https://localhost:8080/",
          "height": 267
        },
        "outputId": "8f11b071-60ec-4083-f58b-c0fd3faaab8a",
        "id": "Ga6qSb_wGXeA"
      },
      "execution_count": null,
      "outputs": [
        {
          "output_type": "display_data",
          "data": {
            "text/plain": [
              "<Figure size 432x288 with 6 Axes>"
            ],
            "image/png": "[encoded data removed]"
          },
          "metadata": {
            "needs_background": "light"
          }
        }
      ]
    },
    {
      "cell_type": "code",
      "source": [
        "class NeuralNet(nn.Module):\n",
        "  def __init__(self, input_size, hidden_size, num_classes):\n",
        "    super(NeuralNet, self).__init__()\n",
        "    self.input_size = input_size\n",
        "    self.l1 = nn.Linear(input_size, hidden_size)\n",
        "    self.relu = nn.ReLU()\n",
        "    self.l2 = nn.Linear(hidden_size, num_classes)\n",
        "\n",
        "  def forward(self,x):\n",
        "    out = self.l1(x)\n",
        "    out = self.relu(out)\n",
        "    out = self.l2(out)\n",
        "\n",
        "    return out"
      ],
      "metadata": {
        "id": "hgrYqW8QGXeB"
      },
      "execution_count": null,
      "outputs": []
    },
    {
      "cell_type": "code",
      "source": [
        "model = NeuralNet(input_size, hidden_size, num_classes).to(device)"
      ],
      "metadata": {
        "id": "0gViCoBRGXeD"
      },
      "execution_count": null,
      "outputs": []
    },
    {
      "cell_type": "code",
      "source": [
        "criterion = nn.CrossEntropyLoss()\n",
        "optimizer = torch.optim.Adam(\n",
        "    model.parameters(),\n",
        "    lr = learning_rate\n",
        ")\n"
      ],
      "metadata": {
        "id": "c-vn7etUGXeE"
      },
      "execution_count": null,
      "outputs": []
    },
    {
      "cell_type": "code",
      "source": [
        "## train the model.....\n",
        "\n",
        "n_total_steps = len(train_loader)\n",
        "\n",
        "for epoch in range(num_epoch):\n",
        "  for i, (images, labels) in enumerate(train_loader):\n",
        "    # 64,  1,  28,  28\n",
        "    # 64,  784\n",
        "    images = images.reshape(-1 , 28*28).to(device)\n",
        "    labels = labels.to(device)\n",
        "\n",
        "    #forward pass\n",
        "    output = model(images)\n",
        "    loss  = criterion(output, labels)\n",
        "\n",
        "    #backward pass, weight update\n",
        "    optimizer.zero_grad()\n",
        "    loss.backward()\n",
        "    optimizer.step()\n",
        "\n",
        "    if(i+1)%100 ==0:\n",
        "      print(f'Epoch {epoch}/{num_epoch}, Step{i+1}/{n_total_steps}, Loss: {loss}')"
      ],
      "metadata": {
        "colab": {
          "base_uri": "https://localhost:8080/"
        },
        "outputId": "b9af2c31-3c61-482c-c600-52436a293c13",
        "id": "8z48FFe1GXeE"
      },
      "execution_count": null,
      "outputs": [
        {
          "output_type": "stream",
          "name": "stdout",
          "text": [
            "Epoch 0/5, Step100/938, Loss: 2.176370859146118\n",
            "Epoch 0/5, Step200/938, Loss: 2.0062904357910156\n",
            "Epoch 0/5, Step300/938, Loss: 2.034372568130493\n",
            "Epoch 0/5, Step400/938, Loss: 2.0169596672058105\n",
            "Epoch 0/5, Step500/938, Loss: 2.2731332778930664\n",
            "Epoch 0/5, Step600/938, Loss: 1.9845142364501953\n",
            "Epoch 0/5, Step700/938, Loss: 1.944677472114563\n",
            "Epoch 0/5, Step800/938, Loss: 2.004870653152466\n",
            "Epoch 0/5, Step900/938, Loss: 1.8453067541122437\n",
            "Epoch 1/5, Step100/938, Loss: 1.8364323377609253\n",
            "Epoch 1/5, Step200/938, Loss: 1.7846641540527344\n",
            "Epoch 1/5, Step300/938, Loss: 1.9185395240783691\n",
            "Epoch 1/5, Step400/938, Loss: 1.8941118717193604\n",
            "Epoch 1/5, Step500/938, Loss: 1.8114553689956665\n",
            "Epoch 1/5, Step600/938, Loss: 1.9043408632278442\n",
            "Epoch 1/5, Step700/938, Loss: 1.8504658937454224\n",
            "Epoch 1/5, Step800/938, Loss: 1.9338873624801636\n",
            "Epoch 1/5, Step900/938, Loss: 1.955121636390686\n",
            "Epoch 2/5, Step100/938, Loss: 1.9221030473709106\n",
            "Epoch 2/5, Step200/938, Loss: 1.7088205814361572\n",
            "Epoch 2/5, Step300/938, Loss: 1.8000590801239014\n",
            "Epoch 2/5, Step400/938, Loss: 1.9347347021102905\n",
            "Epoch 2/5, Step500/938, Loss: 1.8569409847259521\n",
            "Epoch 2/5, Step600/938, Loss: 1.8601493835449219\n",
            "Epoch 2/5, Step700/938, Loss: 1.8465194702148438\n",
            "Epoch 2/5, Step800/938, Loss: 1.7308204174041748\n",
            "Epoch 2/5, Step900/938, Loss: 1.8020912408828735\n",
            "Epoch 3/5, Step100/938, Loss: 1.9351434707641602\n",
            "Epoch 3/5, Step200/938, Loss: 1.6763310432434082\n",
            "Epoch 3/5, Step300/938, Loss: 1.7558090686798096\n",
            "Epoch 3/5, Step400/938, Loss: 1.737420678138733\n",
            "Epoch 3/5, Step500/938, Loss: 1.7139374017715454\n",
            "Epoch 3/5, Step600/938, Loss: 1.6959123611450195\n",
            "Epoch 3/5, Step700/938, Loss: 1.926721453666687\n",
            "Epoch 3/5, Step800/938, Loss: 1.7474240064620972\n",
            "Epoch 3/5, Step900/938, Loss: 1.7034904956817627\n",
            "Epoch 4/5, Step100/938, Loss: 1.672903060913086\n",
            "Epoch 4/5, Step200/938, Loss: 1.679545521736145\n",
            "Epoch 4/5, Step300/938, Loss: 1.71665620803833\n",
            "Epoch 4/5, Step400/938, Loss: 1.6207983493804932\n",
            "Epoch 4/5, Step500/938, Loss: 1.6971149444580078\n",
            "Epoch 4/5, Step600/938, Loss: 1.6870473623275757\n",
            "Epoch 4/5, Step700/938, Loss: 1.6560440063476562\n",
            "Epoch 4/5, Step800/938, Loss: 1.703298568725586\n",
            "Epoch 4/5, Step900/938, Loss: 1.7181082963943481\n"
          ]
        }
      ]
    },
    {
      "cell_type": "code",
      "source": [
        "with torch.no_grad():\n",
        "  n_correct = 0\n",
        "  n_samples = 0\n",
        "\n",
        "  for images, labels in test_loader:\n",
        "    images = images.reshape(-1, 28*28).to(device)\n",
        "    labels = labels.to(device)\n",
        "\n",
        "    output = model(images)\n",
        "    _ , prediction = torch.max(output.data, 1)\n",
        "    n_samples += labels.size(0)\n",
        "    n_correct += (prediction == labels).sum().item()\n",
        "  \n",
        "  acc = 100 * (n_correct/n_samples)\n",
        "\n",
        "print(acc)"
      ],
      "metadata": {
        "colab": {
          "base_uri": "https://localhost:8080/"
        },
        "outputId": "6f1a8a2f-e087-4060-9fbd-488525497e11",
        "id": "wQu3_xUFGXeF"
      },
      "execution_count": null,
      "outputs": [
        {
          "output_type": "stream",
          "name": "stdout",
          "text": [
            "32.781666666666666\n"
          ]
        }
      ]
    },
    {
      "cell_type": "code",
      "source": [
        "from google.colab import files\n",
        "\n",
        "uploaded = files.upload()\n"
      ],
      "metadata": {
        "colab": {
          "base_uri": "https://localhost:8080/",
          "height": 74
        },
        "id": "vx1B4_idH6Rj",
        "outputId": "19c54f6b-4a5b-432f-b146-fa494a8b6f78"
      },
      "execution_count": null,
      "outputs": [
        {
          "output_type": "display_data",
          "data": {
            "text/plain": [
              "<IPython.core.display.HTML object>"
            ],
            "text/html": [
              "\n",
              "     <input type=\"file\" id=\"files-ac9e87e0-5000-4b1a-993e-3d329b2bb8f7\" name=\"files[]\" multiple disabled\n",
              "        style=\"border:none\" />\n",
              "     <output id=\"result-ac9e87e0-5000-4b1a-993e-3d329b2bb8f7\">\n",
              "      Upload widget is only available when the cell has been executed in the\n",
              "      current browser session. Please rerun this cell to enable.\n",
              "      </output>\n",
              "      <script>// Copyright 2017 Google LLC\n",
              "//\n",
              "// Licensed under the Apache License, Version 2.0 (the \"License\");\n",
              "// you may not use this file except in compliance with the License.\n",
              "// You may obtain a copy of the License at\n",
              "//\n",
              "//      http://www.apache.org/licenses/LICENSE-2.0\n",
              "//\n",
              "// Unless required by applicable law or agreed to in writing, software\n",
              "// distributed under the License is distributed on an \"AS IS\" BASIS,\n",
              "// WITHOUT WARRANTIES OR CONDITIONS OF ANY KIND, either express or implied.\n",
              "// See the License for the specific language governing permissions and\n",
              "// limitations under the License.\n",
              "\n",
              "/**\n",
              " * @fileoverview Helpers for google.colab Python module.\n",
              " */\n",
              "(function(scope) {\n",
              "function span(text, styleAttributes = {}) {\n",
              "  const element = document.createElement('span');\n",
              "  element.textContent = text;\n",
              "  for (const key of Object.keys(styleAttributes)) {\n",
              "    element.style[key] = styleAttributes[key];\n",
              "  }\n",
              "  return element;\n",
              "}\n",
              "\n",
              "// Max number of bytes which will be uploaded at a time.\n",
              "const MAX_PAYLOAD_SIZE = 100 * 1024;\n",
              "\n",
              "function _uploadFiles(inputId, outputId) {\n",
              "  const steps = uploadFilesStep(inputId, outputId);\n",
              "  const outputElement = document.getElementById(outputId);\n",
              "  // Cache steps on the outputElement to make it available for the next call\n",
              "  // to uploadFilesContinue from Python.\n",
              "  outputElement.steps = steps;\n",
              "\n",
              "  return _uploadFilesContinue(outputId);\n",
              "}\n",
              "\n",
              "// This is roughly an async generator (not supported in the browser yet),\n",
              "// where there are multiple asynchronous steps and the Python side is going\n",
              "// to poll for completion of each step.\n",
              "// This uses a Promise to block the python side on completion of each step,\n",
              "// then passes the result of the previous step as the input to the next step.\n",
              "function _uploadFilesContinue(outputId) {\n",
              "  const outputElement = document.getElementById(outputId);\n",
              "  const steps = outputElement.steps;\n",
              "\n",
              "  const next = steps.next(outputElement.lastPromiseValue);\n",
              "  return Promise.resolve(next.value.promise).then((value) => {\n",
              "    // Cache the last promise value to make it available to the next\n",
              "    // step of the generator.\n",
              "    outputElement.lastPromiseValue = value;\n",
              "    return next.value.response;\n",
              "  });\n",
              "}\n",
              "\n",
              "/**\n",
              " * Generator function which is called between each async step of the upload\n",
              " * process.\n",
              " * @param {string} inputId Element ID of the input file picker element.\n",
              " * @param {string} outputId Element ID of the output display.\n",
              " * @return {!Iterable<!Object>} Iterable of next steps.\n",
              " */\n",
              "function* uploadFilesStep(inputId, outputId) {\n",
              "  const inputElement = document.getElementById(inputId);\n",
              "  inputElement.disabled = false;\n",
              "\n",
              "  const outputElement = document.getElementById(outputId);\n",
              "  outputElement.innerHTML = '';\n",
              "\n",
              "  const pickedPromise = new Promise((resolve) => {\n",
              "    inputElement.addEventListener('change', (e) => {\n",
              "      resolve(e.target.files);\n",
              "    });\n",
              "  });\n",
              "\n",
              "  const cancel = document.createElement('button');\n",
              "  inputElement.parentElement.appendChild(cancel);\n",
              "  cancel.textContent = 'Cancel upload';\n",
              "  const cancelPromise = new Promise((resolve) => {\n",
              "    cancel.onclick = () => {\n",
              "      resolve(null);\n",
              "    };\n",
              "  });\n",
              "\n",
              "  // Wait for the user to pick the files.\n",
              "  const files = yield {\n",
              "    promise: Promise.race([pickedPromise, cancelPromise]),\n",
              "    response: {\n",
              "      action: 'starting',\n",
              "    }\n",
              "  };\n",
              "\n",
              "  cancel.remove();\n",
              "\n",
              "  // Disable the input element since further picks are not allowed.\n",
              "  inputElement.disabled = true;\n",
              "\n",
              "  if (!files) {\n",
              "    return {\n",
              "      response: {\n",
              "        action: 'complete',\n",
              "      }\n",
              "    };\n",
              "  }\n",
              "\n",
              "  for (const file of files) {\n",
              "    const li = document.createElement('li');\n",
              "    li.append(span(file.name, {fontWeight: 'bold'}));\n",
              "    li.append(span(\n",
              "        `(${file.type || 'n/a'}) - ${file.size} bytes, ` +\n",
              "        `last modified: ${\n",
              "            file.lastModifiedDate ? file.lastModifiedDate.toLocaleDateString() :\n",
              "                                    'n/a'} - `));\n",
              "    const percent = span('0% done');\n",
              "    li.appendChild(percent);\n",
              "\n",
              "    outputElement.appendChild(li);\n",
              "\n",
              "    const fileDataPromise = new Promise((resolve) => {\n",
              "      const reader = new FileReader();\n",
              "      reader.onload = (e) => {\n",
              "        resolve(e.target.result);\n",
              "      };\n",
              "      reader.readAsArrayBuffer(file);\n",
              "    });\n",
              "    // Wait for the data to be ready.\n",
              "    let fileData = yield {\n",
              "      promise: fileDataPromise,\n",
              "      response: {\n",
              "        action: 'continue',\n",
              "      }\n",
              "    };\n",
              "\n",
              "    // Use a chunked sending to avoid message size limits. See b/62115660.\n",
              "    let position = 0;\n",
              "    do {\n",
              "      const length = Math.min(fileData.byteLength - position, MAX_PAYLOAD_SIZE);\n",
              "      const chunk = new Uint8Array(fileData, position, length);\n",
              "      position += length;\n",
              "\n",
              "      const base64 = btoa(String.fromCharCode.apply(null, chunk));\n",
              "      yield {\n",
              "        response: {\n",
              "          action: 'append',\n",
              "          file: file.name,\n",
              "          data: base64,\n",
              "        },\n",
              "      };\n",
              "\n",
              "      let percentDone = fileData.byteLength === 0 ?\n",
              "          100 :\n",
              "          Math.round((position / fileData.byteLength) * 100);\n",
              "      percent.textContent = `${percentDone}% done`;\n",
              "\n",
              "    } while (position < fileData.byteLength);\n",
              "  }\n",
              "\n",
              "  // All done.\n",
              "  yield {\n",
              "    response: {\n",
              "      action: 'complete',\n",
              "    }\n",
              "  };\n",
              "}\n",
              "\n",
              "scope.google = scope.google || {};\n",
              "scope.google.colab = scope.google.colab || {};\n",
              "scope.google.colab._files = {\n",
              "  _uploadFiles,\n",
              "  _uploadFilesContinue,\n",
              "};\n",
              "})(self);\n",
              "</script> "
            ]
          },
          "metadata": {}
        },
        {
          "output_type": "stream",
          "name": "stdout",
          "text": [
            "Saving wine.csv to wine.csv\n"
          ]
        }
      ]
    },
    {
      "cell_type": "code",
      "execution_count": null,
      "metadata": {
        "colab": {
          "base_uri": "https://localhost:8080/"
        },
        "id": "jX10iWRCHQli",
        "outputId": "e1507b35-5e65-4893-b894-79fd529d2cb2"
      },
      "outputs": [
        {
          "output_type": "stream",
          "name": "stdout",
          "text": [
            "(178, 14)\n"
          ]
        }
      ],
      "source": [
        "import numpy as np\n",
        "xy = np.loadtxt('/content/wine.csv',delimiter=\",\",dtype=np.float32,skiprows = 1)\n",
        "print(xy.shape)"
      ]
    },
    {
      "cell_type": "code",
      "source": [
        "n_samples = xy.shape[0]\n",
        "n_features = xy.shape[1] -1\n",
        "\n",
        "print(n_samples, ' ', n_features)"
      ],
      "metadata": {
        "colab": {
          "base_uri": "https://localhost:8080/"
        },
        "id": "Ip9juL4TMIdO",
        "outputId": "e298b395-c9f9-4d4e-f891-db811e99e26d"
      },
      "execution_count": null,
      "outputs": [
        {
          "output_type": "stream",
          "name": "stdout",
          "text": [
            "178   13\n"
          ]
        }
      ]
    },
    {
      "cell_type": "code",
      "source": [
        "x = xy[:, 1:]\n",
        "y = xy[:, [0] ]\n",
        "\n",
        "print(x.shape)\n",
        "print(y.shape)"
      ],
      "metadata": {
        "colab": {
          "base_uri": "https://localhost:8080/"
        },
        "id": "IRtChA6UNrMl",
        "outputId": "1a30cd87-cee0-42a6-f127-e20394b16f3c"
      },
      "execution_count": null,
      "outputs": [
        {
          "output_type": "stream",
          "name": "stdout",
          "text": [
            "(178, 13)\n",
            "(178, 1)\n"
          ]
        }
      ]
    },
    {
      "cell_type": "code",
      "source": [
        "import torch\n",
        "import torchvision\n",
        "from torch.utils.data import Dataset, DataLoader\n",
        "import numpy as np\n",
        "import math\n",
        "\n",
        "class WineDataset(Dataset):\n",
        "  def  __init__(self):\n",
        "    #data loading fro csv\n",
        "    xy = np.loadtxt('/content/wine.csv',delimiter=\",\",dtype=np.float32,skiprows = 1)\n",
        "    self.x = torch.from_numpy(xy[:, 1:])\n",
        "    self.y = torch.from_numpy(xy[:, [0]])\n",
        "    self.n_samples = xy.shape[0]\n",
        "    self.n_features = xy.shape[1]\n",
        "    \n",
        "  def __getitem__(self, index):\n",
        "    return self.x[index], self.y[index]\n",
        "\n",
        "  def __len__(self):\n",
        "    return self.n_samples\n",
        "\n",
        "\n",
        "dataset = WineDataset()\n",
        "first_data = dataset[0]\n",
        "features, labels = first_data\n",
        "print(features, labels)\n",
        "\n"
      ],
      "metadata": {
        "colab": {
          "base_uri": "https://localhost:8080/"
        },
        "id": "ptDkmhAAT19E",
        "outputId": "18ac86ac-0298-4c6b-fed6-0dfbe2db804c"
      },
      "execution_count": null,
      "outputs": [
        {
          "output_type": "stream",
          "name": "stdout",
          "text": [
            "tensor([1.4230e+01, 1.7100e+00, 2.4300e+00, 1.5600e+01, 1.2700e+02, 2.8000e+00,\n",
            "        3.0600e+00, 2.8000e-01, 2.2900e+00, 5.6400e+00, 1.0400e+00, 3.9200e+00,\n",
            "        1.0650e+03]) tensor([1.])\n"
          ]
        }
      ]
    },
    {
      "cell_type": "code",
      "source": [
        "dataset = WineDataset()"
      ],
      "metadata": {
        "id": "yFLtetyFWMiW"
      },
      "execution_count": null,
      "outputs": []
    },
    {
      "cell_type": "code",
      "source": [
        "\n",
        "dataloader = DataLoader(dataset=dataset, batch_size=4, shuffle=True, num_workers=2)\n"
      ],
      "metadata": {
        "id": "Ca0_YBOgIpnZ"
      },
      "execution_count": null,
      "outputs": []
    },
    {
      "cell_type": "code",
      "source": [],
      "metadata": {
        "id": "2SLv0wTsLxCF"
      },
      "execution_count": null,
      "outputs": []
    },
    {
      "cell_type": "code",
      "source": [
        "#iterate through different batches\n",
        "dataiter = iter(dataloader)\n",
        "data = next(dataiter)\n",
        "\n",
        "features, labels = data\n",
        "print(features)\n",
        "print(labels)"
      ],
      "metadata": {
        "id": "9VV8ozLRIzuC",
        "colab": {
          "base_uri": "https://localhost:8080/"
        },
        "outputId": "4cf8b6a8-f699-4799-8f51-62ab10d31795"
      },
      "execution_count": null,
      "outputs": [
        {
          "output_type": "stream",
          "name": "stdout",
          "text": [
            "tensor([[1.3880e+01, 5.0400e+00, 2.2300e+00, 2.0000e+01, 8.0000e+01, 9.8000e-01,\n",
            "         3.4000e-01, 4.0000e-01, 6.8000e-01, 4.9000e+00, 5.8000e-01, 1.3300e+00,\n",
            "         4.1500e+02],\n",
            "        [1.3720e+01, 1.4300e+00, 2.5000e+00, 1.6700e+01, 1.0800e+02, 3.4000e+00,\n",
            "         3.6700e+00, 1.9000e-01, 2.0400e+00, 6.8000e+00, 8.9000e-01, 2.8700e+00,\n",
            "         1.2850e+03],\n",
            "        [1.2340e+01, 2.4500e+00, 2.4600e+00, 2.1000e+01, 9.8000e+01, 2.5600e+00,\n",
            "         2.1100e+00, 3.4000e-01, 1.3100e+00, 2.8000e+00, 8.0000e-01, 3.3800e+00,\n",
            "         4.3800e+02],\n",
            "        [1.3400e+01, 3.9100e+00, 2.4800e+00, 2.3000e+01, 1.0200e+02, 1.8000e+00,\n",
            "         7.5000e-01, 4.3000e-01, 1.4100e+00, 7.3000e+00, 7.0000e-01, 1.5600e+00,\n",
            "         7.5000e+02]])\n",
            "tensor([[3.],\n",
            "        [1.],\n",
            "        [2.],\n",
            "        [3.]])\n"
          ]
        }
      ]
    },
    {
      "cell_type": "code",
      "source": [
        "import math\n",
        "num_epoch = 2\n",
        "total_samples = len(dataset)\n",
        "batch_size = 4\n",
        "n_step = math.ceil(total_samples / batch_size)\n",
        "\n",
        "#iterate through the batches\n",
        "for epoch in range(num_epoch):\n",
        "  for i, (features, labels) in enumerate(dataloader):\n",
        "\n",
        "    if(i+1)%5 ==0:\n",
        "      print(f'epoch {epoch+1}/{num_epoch}, Step{i+1}/{n_step}, inputs')"
      ],
      "metadata": {
        "id": "IXrqD1K5J0Xi",
        "colab": {
          "base_uri": "https://localhost:8080/"
        },
        "outputId": "5c6cd46a-1a4f-42a2-f1de-02324eb6c615"
      },
      "execution_count": null,
      "outputs": [
        {
          "output_type": "stream",
          "name": "stdout",
          "text": [
            "epoch 1/2, Step5/45, inputs\n",
            "epoch 1/2, Step10/45, inputs\n",
            "epoch 1/2, Step15/45, inputs\n",
            "epoch 1/2, Step20/45, inputs\n",
            "epoch 1/2, Step25/45, inputs\n",
            "epoch 1/2, Step30/45, inputs\n",
            "epoch 1/2, Step35/45, inputs\n",
            "epoch 1/2, Step40/45, inputs\n",
            "epoch 1/2, Step45/45, inputs\n",
            "epoch 2/2, Step5/45, inputs\n",
            "epoch 2/2, Step10/45, inputs\n",
            "epoch 2/2, Step15/45, inputs\n",
            "epoch 2/2, Step20/45, inputs\n",
            "epoch 2/2, Step25/45, inputs\n",
            "epoch 2/2, Step30/45, inputs\n",
            "epoch 2/2, Step35/45, inputs\n",
            "epoch 2/2, Step40/45, inputs\n",
            "epoch 2/2, Step45/45, inputs\n"
          ]
        }
      ]
    },
    {
      "cell_type": "code",
      "source": [],
      "metadata": {
        "id": "jS20WQzGfMVL"
      },
      "execution_count": null,
      "outputs": []
    },
    {
      "cell_type": "code",
      "source": [
        "import torch\n",
        "import torchvision\n",
        "import torch.nn as nn\n",
        "import torchvision.transforms as transforms\n",
        "import matplotlib.pyplot as plt"
      ],
      "metadata": {
        "id": "VCtbvzRsLvbk"
      },
      "execution_count": null,
      "outputs": []
    },
    {
      "cell_type": "code",
      "source": [
        "device = torch.device('cuda' if torch.cuda.is_available() else 'cpu' )\n",
        "print(device)"
      ],
      "metadata": {
        "colab": {
          "base_uri": "https://localhost:8080/"
        },
        "id": "XmlDrW8wMZiM",
        "outputId": "c69592b7-a805-4bb9-aa0d-93887d897f67"
      },
      "execution_count": null,
      "outputs": [
        {
          "output_type": "stream",
          "name": "stdout",
          "text": [
            "cpu\n"
          ]
        }
      ]
    },
    {
      "cell_type": "code",
      "source": [
        "#Hyperparams\n",
        "\n",
        "input_size = 784    # 28 * 28\n",
        "hidden_state = 500\n",
        "num_classes = 10\n",
        "num_epoch = 5\n",
        "batch_size = 64\n",
        "learning_rate = 0.001\n"
      ],
      "metadata": {
        "id": "wW-TyP-dM5Db"
      },
      "execution_count": null,
      "outputs": []
    },
    {
      "cell_type": "code",
      "source": [
        "train_dataset = torchvision.datasets.MNIST(\n",
        "    root = '/data',\n",
        "    train = True,\n",
        "    transform = transforms.ToTensor(),\n",
        "    download = True\n",
        ")"
      ],
      "metadata": {
        "id": "bOlu_9RHNyTk",
        "colab": {
          "base_uri": "https://localhost:8080/",
          "height": 430,
          "referenced_widgets": [
            "c1028bf8b23f45bf976b1d78e9cf835f",
            "fc7e98065e264e5c94539cdf2b4298dd",
            "100cd617baa84181bc4054d846239d7d",
            "09f6f72d28414f3c86b11c5055adc7f9",
            "b71aa7d49ba54b7f8c521ca78eb4480b",
            "51ed042672bf4fda9dacaeade0e6424e",
            "92db8dc9ab08461f9538ade6f31f00d0",
            "a9412a36d4164cd8b5a92602ade83f7b",
            "611b48e8a8ed4972bf593a758c220d1c",
            "b946ae79904e45e29fd62b06bae55789",
            "b7c911ec26b04e15b5e86ebdd7196ed5",
            "c4701ecebc8e4e90827a848b94986890",
            "1693b0fb064e44e28f641b4265f379a3",
            "8e337297fdc3412ab6c29b09e842d0bc",
            "8524f2fe7f55423aa94cf9e0b9b1d3d3",
            "3a41f746f681400dbe382df8aef6148a",
            "b5bb76c74c61414cab4bd3bdfbab69ca",
            "aa5d7097e737411491a29aa04272691f",
            "abada8f9bc3c47b38e794d3c1479745b",
            "2ad5dd662c194a96ba1c2f4c95ad2157",
            "07b3c1720d5e432fb01af005fd9ca39a",
            "c1c21c03f2664dfa9f7ff740be10b8b5",
            "942b4b29126f473996a8903d6af3496a",
            "6c9d473d1e6c4fc1ba7515b8c1287313",
            "207e2447e6824a5ca71352b20084f747",
            "167aa23fa0b14cab99c61f880245df58",
            "d50c3db15a274a2492956a327a2beb4d",
            "3baa68eeb9f74f8eba0eef4ddcfa313e",
            "438a4f98b2d64a84931e5d9c7fa7c597",
            "f9cdc7eced234dc488e0598687635568",
            "ee3a41e57b5b45d8ba6b2b375ae859d1",
            "4be48ee1b3144be285ab7db200cce47e",
            "bad58aa1a21a438e85cd5eaf8fc1e3b7",
            "69e562c13c2c42409f0490f3b2b9735f",
            "6d0c540c0be24cd79954df0a25a78ca5",
            "bcb24fd48b6048349373cc1fc14b4050",
            "e9173ccdd7704248a92246f970e6d331",
            "a901a271eac3426f87bf03480a6e6c71",
            "6d024b5ee07b4e9aa3775c5e5101b0fa",
            "9b145c2718e344b79a1853a5042797d5",
            "699af594c1d34ba6b9807eece77d71e6",
            "d53e16c946964884862025f0847c9d55",
            "c83cc86bead14de1bb4ac7d2d53a1b49",
            "b1ac311560d34e5287db5eddbcc7be2b"
          ]
        },
        "outputId": "9bd51912-0b3c-422a-c70d-47959ff05612"
      },
      "execution_count": null,
      "outputs": [
        {
          "output_type": "stream",
          "name": "stdout",
          "text": [
            "Downloading http://yann.lecun.com/exdb/mnist/train-images-idx3-ubyte.gz\n",
            "Downloading http://yann.lecun.com/exdb/mnist/train-images-idx3-ubyte.gz to /data/MNIST/raw/train-images-idx3-ubyte.gz\n"
          ]
        },
        {
          "output_type": "display_data",
          "data": {
            "text/plain": [
              "  0%|          | 0/9912422 [00:00<?, ?it/s]"
            ],
            "application/vnd.jupyter.widget-view+json": {
              "version_major": 2,
              "version_minor": 0,
              "model_id": "c1028bf8b23f45bf976b1d78e9cf835f"
            }
          },
          "metadata": {}
        },
        {
          "output_type": "stream",
          "name": "stdout",
          "text": [
            "Extracting /data/MNIST/raw/train-images-idx3-ubyte.gz to /data/MNIST/raw\n",
            "\n",
            "Downloading http://yann.lecun.com/exdb/mnist/train-labels-idx1-ubyte.gz\n",
            "Downloading http://yann.lecun.com/exdb/mnist/train-labels-idx1-ubyte.gz to /data/MNIST/raw/train-labels-idx1-ubyte.gz\n"
          ]
        },
        {
          "output_type": "display_data",
          "data": {
            "text/plain": [
              "  0%|          | 0/28881 [00:00<?, ?it/s]"
            ],
            "application/vnd.jupyter.widget-view+json": {
              "version_major": 2,
              "version_minor": 0,
              "model_id": "c4701ecebc8e4e90827a848b94986890"
            }
          },
          "metadata": {}
        },
        {
          "output_type": "stream",
          "name": "stdout",
          "text": [
            "Extracting /data/MNIST/raw/train-labels-idx1-ubyte.gz to /data/MNIST/raw\n",
            "\n",
            "Downloading http://yann.lecun.com/exdb/mnist/t10k-images-idx3-ubyte.gz\n",
            "Downloading http://yann.lecun.com/exdb/mnist/t10k-images-idx3-ubyte.gz to /data/MNIST/raw/t10k-images-idx3-ubyte.gz\n"
          ]
        },
        {
          "output_type": "display_data",
          "data": {
            "text/plain": [
              "  0%|          | 0/1648877 [00:00<?, ?it/s]"
            ],
            "application/vnd.jupyter.widget-view+json": {
              "version_major": 2,
              "version_minor": 0,
              "model_id": "942b4b29126f473996a8903d6af3496a"
            }
          },
          "metadata": {}
        },
        {
          "output_type": "stream",
          "name": "stdout",
          "text": [
            "Extracting /data/MNIST/raw/t10k-images-idx3-ubyte.gz to /data/MNIST/raw\n",
            "\n",
            "Downloading http://yann.lecun.com/exdb/mnist/t10k-labels-idx1-ubyte.gz\n",
            "Downloading http://yann.lecun.com/exdb/mnist/t10k-labels-idx1-ubyte.gz to /data/MNIST/raw/t10k-labels-idx1-ubyte.gz\n"
          ]
        },
        {
          "output_type": "display_data",
          "data": {
            "text/plain": [
              "  0%|          | 0/4542 [00:00<?, ?it/s]"
            ],
            "application/vnd.jupyter.widget-view+json": {
              "version_major": 2,
              "version_minor": 0,
              "model_id": "69e562c13c2c42409f0490f3b2b9735f"
            }
          },
          "metadata": {}
        },
        {
          "output_type": "stream",
          "name": "stdout",
          "text": [
            "Extracting /data/MNIST/raw/t10k-labels-idx1-ubyte.gz to /data/MNIST/raw\n",
            "\n"
          ]
        }
      ]
    },
    {
      "cell_type": "code",
      "source": [
        "test_dataset = torchvision.datasets.MNIST(\n",
        "    root = '/data',\n",
        "    train = True,\n",
        "    transform = transforms.ToTensor(),\n",
        "    download = True\n",
        ")"
      ],
      "metadata": {
        "id": "Q1sMaY4SONIs"
      },
      "execution_count": null,
      "outputs": []
    },
    {
      "cell_type": "code",
      "source": [
        "train_loader = torch.utils.data.DataLoader(\n",
        "    dataset = train_dataset,\n",
        "    batch_size = batch_size,\n",
        "    shuffle = True\n",
        ")\n",
        "\n",
        "test_loader = torch.utils.data.DataLoader(\n",
        "    dataset = test_dataset,\n",
        "    batch_size = batch_size,\n",
        "    shuffle = False\n",
        ")"
      ],
      "metadata": {
        "id": "QtrTQ7b1OQs8"
      },
      "execution_count": null,
      "outputs": []
    },
    {
      "cell_type": "code",
      "source": [
        "#first test batch \n",
        "first_test_data = iter(test_loader)\n",
        "data, label = next(first_test_data)\n",
        "print(data.shape)\n",
        "print(label.shape)\n",
        "print(data)\n",
        "print(label)"
      ],
      "metadata": {
        "id": "JrWedJQcOoak",
        "colab": {
          "base_uri": "https://localhost:8080/"
        },
        "outputId": "8954f753-66c8-4c25-d1ad-c295369fe61d"
      },
      "execution_count": null,
      "outputs": [
        {
          "output_type": "stream",
          "name": "stdout",
          "text": [
            "torch.Size([64, 1, 28, 28])\n",
            "torch.Size([64])\n",
            "tensor([[[[0., 0., 0.,  ..., 0., 0., 0.],\n",
            "          [0., 0., 0.,  ..., 0., 0., 0.],\n",
            "          [0., 0., 0.,  ..., 0., 0., 0.],\n",
            "          ...,\n",
            "          [0., 0., 0.,  ..., 0., 0., 0.],\n",
            "          [0., 0., 0.,  ..., 0., 0., 0.],\n",
            "          [0., 0., 0.,  ..., 0., 0., 0.]]],\n",
            "\n",
            "\n",
            "        [[[0., 0., 0.,  ..., 0., 0., 0.],\n",
            "          [0., 0., 0.,  ..., 0., 0., 0.],\n",
            "          [0., 0., 0.,  ..., 0., 0., 0.],\n",
            "          ...,\n",
            "          [0., 0., 0.,  ..., 0., 0., 0.],\n",
            "          [0., 0., 0.,  ..., 0., 0., 0.],\n",
            "          [0., 0., 0.,  ..., 0., 0., 0.]]],\n",
            "\n",
            "\n",
            "        [[[0., 0., 0.,  ..., 0., 0., 0.],\n",
            "          [0., 0., 0.,  ..., 0., 0., 0.],\n",
            "          [0., 0., 0.,  ..., 0., 0., 0.],\n",
            "          ...,\n",
            "          [0., 0., 0.,  ..., 0., 0., 0.],\n",
            "          [0., 0., 0.,  ..., 0., 0., 0.],\n",
            "          [0., 0., 0.,  ..., 0., 0., 0.]]],\n",
            "\n",
            "\n",
            "        ...,\n",
            "\n",
            "\n",
            "        [[[0., 0., 0.,  ..., 0., 0., 0.],\n",
            "          [0., 0., 0.,  ..., 0., 0., 0.],\n",
            "          [0., 0., 0.,  ..., 0., 0., 0.],\n",
            "          ...,\n",
            "          [0., 0., 0.,  ..., 0., 0., 0.],\n",
            "          [0., 0., 0.,  ..., 0., 0., 0.],\n",
            "          [0., 0., 0.,  ..., 0., 0., 0.]]],\n",
            "\n",
            "\n",
            "        [[[0., 0., 0.,  ..., 0., 0., 0.],\n",
            "          [0., 0., 0.,  ..., 0., 0., 0.],\n",
            "          [0., 0., 0.,  ..., 0., 0., 0.],\n",
            "          ...,\n",
            "          [0., 0., 0.,  ..., 0., 0., 0.],\n",
            "          [0., 0., 0.,  ..., 0., 0., 0.],\n",
            "          [0., 0., 0.,  ..., 0., 0., 0.]]],\n",
            "\n",
            "\n",
            "        [[[0., 0., 0.,  ..., 0., 0., 0.],\n",
            "          [0., 0., 0.,  ..., 0., 0., 0.],\n",
            "          [0., 0., 0.,  ..., 0., 0., 0.],\n",
            "          ...,\n",
            "          [0., 0., 0.,  ..., 0., 0., 0.],\n",
            "          [0., 0., 0.,  ..., 0., 0., 0.],\n",
            "          [0., 0., 0.,  ..., 0., 0., 0.]]]])\n",
            "tensor([5, 0, 4, 1, 9, 2, 1, 3, 1, 4, 3, 5, 3, 6, 1, 7, 2, 8, 6, 9, 4, 0, 9, 1,\n",
            "        1, 2, 4, 3, 2, 7, 3, 8, 6, 9, 0, 5, 6, 0, 7, 6, 1, 8, 7, 9, 3, 9, 8, 5,\n",
            "        9, 3, 3, 0, 7, 4, 9, 8, 0, 9, 4, 1, 4, 4, 6, 0])\n"
          ]
        }
      ]
    },
    {
      "cell_type": "code",
      "source": [
        "for i in range(6):\n",
        "  plt.subplot(2,3,i+1)\n",
        "  plt.imshow(data[i][0], cmap='gray')"
      ],
      "metadata": {
        "id": "Fr5I1-FrPS9U",
        "colab": {
          "base_uri": "https://localhost:8080/",
          "height": 267
        },
        "outputId": "8f11b071-60ec-4083-f58b-c0fd3faaab8a"
      },
      "execution_count": null,
      "outputs": [
        {
          "output_type": "display_data",
          "data": {
            "text/plain": [
              "<Figure size 432x288 with 6 Axes>"
            ],
            "image/png": "[encoded data removed]"
          },
          "metadata": {
            "needs_background": "light"
          }
        }
      ]
    },
    {
      "cell_type": "code",
      "source": [
        "class NeuralNet(nn.Module):\n",
        "  def __init__(self, input_size, hidden_size, num_classes):\n",
        "    super(NeuralNet, self).__init__()\n",
        "    self.input_size = input_size\n",
        "    self.l1 = nn.Linear(input_size, hidden_size)\n",
        "    self.relu = nn.ReLU()\n",
        "    self.l2 = nn.Linear(hidden_size, num_classes)\n",
        "\n",
        "  def forward(self,x):\n",
        "    out = self.l1(x)\n",
        "    out = self.relu(out)\n",
        "    out = self.l2(out)\n",
        "\n",
        "    return out"
      ],
      "metadata": {
        "id": "zmzvN2zbPzds"
      },
      "execution_count": null,
      "outputs": []
    },
    {
      "cell_type": "code",
      "source": [
        "model = NeuralNet(input_size, hidden_size, num_classes).to(device)"
      ],
      "metadata": {
        "id": "U0PWD2z2ROdd"
      },
      "execution_count": null,
      "outputs": []
    },
    {
      "cell_type": "code",
      "source": [
        "criterion = nn.CrossEntropyLoss()\n",
        "optimizer = torch.optim.Adam(\n",
        "    model.parameters(),\n",
        "    lr = learning_rate\n",
        ")\n"
      ],
      "metadata": {
        "id": "P2IKT_KNRjH7"
      },
      "execution_count": null,
      "outputs": []
    },
    {
      "cell_type": "code",
      "source": [
        "## train the model.....\n",
        "\n",
        "n_total_steps = len(train_loader)\n",
        "\n",
        "for epoch in range(num_epoch):\n",
        "  for i, (images, labels) in enumerate(train_loader):\n",
        "    # 64,  1,  28,  28\n",
        "    # 64,  784\n",
        "    images = images.reshape(-1 , 28*28).to(device)\n",
        "    labels = labels.to(device)\n",
        "\n",
        "    #forward pass\n",
        "    output = model(images)\n",
        "    loss  = criterion(output, labels)\n",
        "\n",
        "    #backward pass, weight update\n",
        "    optimizer.zero_grad()\n",
        "    loss.backward()\n",
        "    optimizer.step()\n",
        "\n",
        "    if(i+1)%100 ==0:\n",
        "      print(f'Epoch {epoch}/{num_epoch}, Step{i+1}/{n_total_steps}, Loss: {loss}')"
      ],
      "metadata": {
        "id": "C-z5qfGPR1H0",
        "colab": {
          "base_uri": "https://localhost:8080/"
        },
        "outputId": "b9af2c31-3c61-482c-c600-52436a293c13"
      },
      "execution_count": null,
      "outputs": [
        {
          "output_type": "stream",
          "name": "stdout",
          "text": [
            "Epoch 0/5, Step100/938, Loss: 2.176370859146118\n",
            "Epoch 0/5, Step200/938, Loss: 2.0062904357910156\n",
            "Epoch 0/5, Step300/938, Loss: 2.034372568130493\n",
            "Epoch 0/5, Step400/938, Loss: 2.0169596672058105\n",
            "Epoch 0/5, Step500/938, Loss: 2.2731332778930664\n",
            "Epoch 0/5, Step600/938, Loss: 1.9845142364501953\n",
            "Epoch 0/5, Step700/938, Loss: 1.944677472114563\n",
            "Epoch 0/5, Step800/938, Loss: 2.004870653152466\n",
            "Epoch 0/5, Step900/938, Loss: 1.8453067541122437\n",
            "Epoch 1/5, Step100/938, Loss: 1.8364323377609253\n",
            "Epoch 1/5, Step200/938, Loss: 1.7846641540527344\n",
            "Epoch 1/5, Step300/938, Loss: 1.9185395240783691\n",
            "Epoch 1/5, Step400/938, Loss: 1.8941118717193604\n",
            "Epoch 1/5, Step500/938, Loss: 1.8114553689956665\n",
            "Epoch 1/5, Step600/938, Loss: 1.9043408632278442\n",
            "Epoch 1/5, Step700/938, Loss: 1.8504658937454224\n",
            "Epoch 1/5, Step800/938, Loss: 1.9338873624801636\n",
            "Epoch 1/5, Step900/938, Loss: 1.955121636390686\n",
            "Epoch 2/5, Step100/938, Loss: 1.9221030473709106\n",
            "Epoch 2/5, Step200/938, Loss: 1.7088205814361572\n",
            "Epoch 2/5, Step300/938, Loss: 1.8000590801239014\n",
            "Epoch 2/5, Step400/938, Loss: 1.9347347021102905\n",
            "Epoch 2/5, Step500/938, Loss: 1.8569409847259521\n",
            "Epoch 2/5, Step600/938, Loss: 1.8601493835449219\n",
            "Epoch 2/5, Step700/938, Loss: 1.8465194702148438\n",
            "Epoch 2/5, Step800/938, Loss: 1.7308204174041748\n",
            "Epoch 2/5, Step900/938, Loss: 1.8020912408828735\n",
            "Epoch 3/5, Step100/938, Loss: 1.9351434707641602\n",
            "Epoch 3/5, Step200/938, Loss: 1.6763310432434082\n",
            "Epoch 3/5, Step300/938, Loss: 1.7558090686798096\n",
            "Epoch 3/5, Step400/938, Loss: 1.737420678138733\n",
            "Epoch 3/5, Step500/938, Loss: 1.7139374017715454\n",
            "Epoch 3/5, Step600/938, Loss: 1.6959123611450195\n",
            "Epoch 3/5, Step700/938, Loss: 1.926721453666687\n",
            "Epoch 3/5, Step800/938, Loss: 1.7474240064620972\n",
            "Epoch 3/5, Step900/938, Loss: 1.7034904956817627\n",
            "Epoch 4/5, Step100/938, Loss: 1.672903060913086\n",
            "Epoch 4/5, Step200/938, Loss: 1.679545521736145\n",
            "Epoch 4/5, Step300/938, Loss: 1.71665620803833\n",
            "Epoch 4/5, Step400/938, Loss: 1.6207983493804932\n",
            "Epoch 4/5, Step500/938, Loss: 1.6971149444580078\n",
            "Epoch 4/5, Step600/938, Loss: 1.6870473623275757\n",
            "Epoch 4/5, Step700/938, Loss: 1.6560440063476562\n",
            "Epoch 4/5, Step800/938, Loss: 1.703298568725586\n",
            "Epoch 4/5, Step900/938, Loss: 1.7181082963943481\n"
          ]
        }
      ]
    },
    {
      "cell_type": "code",
      "source": [
        "with torch.no_grad():\n",
        "  n_correct = 0\n",
        "  n_samples = 0\n",
        "\n",
        "  for images, labels in test_loader:\n",
        "    images = images.reshape(-1, 28*28).to(device)\n",
        "    labels = labels.to(device)\n",
        "\n",
        "    output = model(images)\n",
        "    _ , prediction = torch.max(output.data, 1)\n",
        "    n_samples += labels.size(0)\n",
        "    n_correct += (prediction == labels).sum().item()\n",
        "  \n",
        "  acc = 100 * (n_correct/n_samples)\n",
        "\n",
        "print(acc)"
      ],
      "metadata": {
        "id": "bphJDTDpUleV",
        "colab": {
          "base_uri": "https://localhost:8080/"
        },
        "outputId": "6f1a8a2f-e087-4060-9fbd-488525497e11"
      },
      "execution_count": null,
      "outputs": [
        {
          "output_type": "stream",
          "name": "stdout",
          "text": [
            "32.781666666666666\n"
          ]
        }
      ]
    }
  ]
}